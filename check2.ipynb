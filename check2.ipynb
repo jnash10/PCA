{
 "cells": [
  {
   "cell_type": "code",
   "execution_count": 131,
   "metadata": {},
   "outputs": [],
   "source": [
    "import pandas as pd\n",
    "import matplotlib.pyplot as plt\n",
    "import numpy as np\n",
    "import os"
   ]
  },
  {
   "cell_type": "code",
   "execution_count": 132,
   "metadata": {},
   "outputs": [],
   "source": [
    "def reset():\n",
    "    os.remove('time.csv')\n",
    "    os.remove('priority.csv')\n",
    "    os.remove('avg.csv')\n",
    "#reset()"
   ]
  },
  {
   "cell_type": "code",
   "execution_count": 133,
   "metadata": {},
   "outputs": [
    {
     "data": {
      "text/html": [
       "<div>\n",
       "<style scoped>\n",
       "    .dataframe tbody tr th:only-of-type {\n",
       "        vertical-align: middle;\n",
       "    }\n",
       "\n",
       "    .dataframe tbody tr th {\n",
       "        vertical-align: top;\n",
       "    }\n",
       "\n",
       "    .dataframe thead th {\n",
       "        text-align: right;\n",
       "    }\n",
       "</style>\n",
       "<table border=\"1\" class=\"dataframe\">\n",
       "  <thead>\n",
       "    <tr style=\"text-align: right;\">\n",
       "      <th></th>\n",
       "      <th>0</th>\n",
       "      <th>1</th>\n",
       "      <th>2</th>\n",
       "      <th>3</th>\n",
       "      <th>4</th>\n",
       "      <th>5</th>\n",
       "      <th>6</th>\n",
       "      <th>7</th>\n",
       "    </tr>\n",
       "  </thead>\n",
       "  <tbody>\n",
       "    <tr>\n",
       "      <th>0</th>\n",
       "      <td>3852</td>\n",
       "      <td>3945</td>\n",
       "      <td>3846</td>\n",
       "      <td>3958</td>\n",
       "      <td>3921</td>\n",
       "      <td>3798</td>\n",
       "      <td>3970</td>\n",
       "      <td>3860</td>\n",
       "    </tr>\n",
       "  </tbody>\n",
       "</table>\n",
       "</div>"
      ],
      "text/plain": [
       "      0     1     2     3     4     5     6     7\n",
       "0  3852  3945  3846  3958  3921  3798  3970  3860"
      ]
     },
     "execution_count": 133,
     "metadata": {},
     "output_type": "execute_result"
    }
   ],
   "source": [
    "time = pd.read_csv('time.csv', header=None)\n",
    "time"
   ]
  },
  {
   "cell_type": "code",
   "execution_count": 134,
   "metadata": {},
   "outputs": [
    {
     "data": {
      "text/html": [
       "<div>\n",
       "<style scoped>\n",
       "    .dataframe tbody tr th:only-of-type {\n",
       "        vertical-align: middle;\n",
       "    }\n",
       "\n",
       "    .dataframe tbody tr th {\n",
       "        vertical-align: top;\n",
       "    }\n",
       "\n",
       "    .dataframe thead th {\n",
       "        text-align: right;\n",
       "    }\n",
       "</style>\n",
       "<table border=\"1\" class=\"dataframe\">\n",
       "  <thead>\n",
       "    <tr style=\"text-align: right;\">\n",
       "      <th></th>\n",
       "      <th>0</th>\n",
       "      <th>1</th>\n",
       "      <th>2</th>\n",
       "      <th>3</th>\n",
       "      <th>4</th>\n",
       "      <th>5</th>\n",
       "      <th>6</th>\n",
       "      <th>7</th>\n",
       "    </tr>\n",
       "  </thead>\n",
       "  <tbody>\n",
       "    <tr>\n",
       "      <th>0</th>\n",
       "      <td>7.79725</td>\n",
       "      <td>7.662935</td>\n",
       "      <td>7.931168</td>\n",
       "      <td>7.596126</td>\n",
       "      <td>10.742758</td>\n",
       "      <td>9.992466</td>\n",
       "      <td>10.867562</td>\n",
       "      <td>9.977128</td>\n",
       "    </tr>\n",
       "  </tbody>\n",
       "</table>\n",
       "</div>"
      ],
      "text/plain": [
       "         0         1         2         3          4         5          6  \\\n",
       "0  7.79725  7.662935  7.931168  7.596126  10.742758  9.992466  10.867562   \n",
       "\n",
       "          7  \n",
       "0  9.977128  "
      ]
     },
     "execution_count": 134,
     "metadata": {},
     "output_type": "execute_result"
    }
   ],
   "source": [
    "avg = pd.read_csv('avg.csv', header=None)\n",
    "avg"
   ]
  },
  {
   "cell_type": "code",
   "execution_count": 135,
   "metadata": {},
   "outputs": [
    {
     "data": {
      "text/html": [
       "<div>\n",
       "<style scoped>\n",
       "    .dataframe tbody tr th:only-of-type {\n",
       "        vertical-align: middle;\n",
       "    }\n",
       "\n",
       "    .dataframe tbody tr th {\n",
       "        vertical-align: top;\n",
       "    }\n",
       "\n",
       "    .dataframe thead th {\n",
       "        text-align: right;\n",
       "    }\n",
       "</style>\n",
       "<table border=\"1\" class=\"dataframe\">\n",
       "  <thead>\n",
       "    <tr style=\"text-align: right;\">\n",
       "      <th></th>\n",
       "      <th>0</th>\n",
       "      <th>1</th>\n",
       "      <th>2</th>\n",
       "      <th>3</th>\n",
       "      <th>4</th>\n",
       "      <th>5</th>\n",
       "      <th>6</th>\n",
       "      <th>7</th>\n",
       "    </tr>\n",
       "  </thead>\n",
       "  <tbody>\n",
       "    <tr>\n",
       "      <th>0</th>\n",
       "      <td>3.441227</td>\n",
       "      <td>2.66913</td>\n",
       "      <td>5.430771</td>\n",
       "      <td>2.747908</td>\n",
       "      <td>3.10961</td>\n",
       "      <td>4.582481</td>\n",
       "      <td>2.090768</td>\n",
       "      <td>2.408363</td>\n",
       "    </tr>\n",
       "  </tbody>\n",
       "</table>\n",
       "</div>"
      ],
      "text/plain": [
       "          0        1         2         3        4         5         6  \\\n",
       "0  3.441227  2.66913  5.430771  2.747908  3.10961  4.582481  2.090768   \n",
       "\n",
       "          7  \n",
       "0  2.408363  "
      ]
     },
     "execution_count": 135,
     "metadata": {},
     "output_type": "execute_result"
    }
   ],
   "source": [
    "priority = pd.read_csv('priority.csv', header=None)\n",
    "priority\n"
   ]
  },
  {
   "cell_type": "code",
   "execution_count": 136,
   "metadata": {},
   "outputs": [],
   "source": [
    "priority = priority.to_numpy().flatten()\n",
    "time = time.to_numpy().flatten()\n",
    "avg = avg.to_numpy().flatten()"
   ]
  },
  {
   "cell_type": "code",
   "execution_count": 137,
   "metadata": {},
   "outputs": [],
   "source": [
    "table = np.array([priority, time, avg]).T"
   ]
  },
  {
   "cell_type": "code",
   "execution_count": 138,
   "metadata": {},
   "outputs": [
    {
     "data": {
      "text/plain": [
       "array([[3.44122749e+00, 2.66912985e+00, 5.43077119e+00, 2.74790787e+00,\n",
       "        3.10960984e+00, 4.58248112e+00, 2.09076760e+00, 2.40836334e+00],\n",
       "       [3.85200000e+03, 3.94500000e+03, 3.84600000e+03, 3.95800000e+03,\n",
       "        3.92100000e+03, 3.79800000e+03, 3.97000000e+03, 3.86000000e+03],\n",
       "       [7.79725039e+00, 7.66293508e+00, 7.93116807e+00, 7.59612588e+00,\n",
       "        1.07427577e+01, 9.99246598e+00, 1.08675615e+01, 9.97712775e+00]])"
      ]
     },
     "execution_count": 138,
     "metadata": {},
     "output_type": "execute_result"
    }
   ],
   "source": [
    "table.T"
   ]
  },
  {
   "cell_type": "code",
   "execution_count": 139,
   "metadata": {},
   "outputs": [
    {
     "data": {
      "text/plain": [
       "(3, 8)"
      ]
     },
     "execution_count": 139,
     "metadata": {},
     "output_type": "execute_result"
    }
   ],
   "source": [
    "table.T.shape"
   ]
  },
  {
   "cell_type": "code",
   "execution_count": 140,
   "metadata": {},
   "outputs": [
    {
     "data": {
      "text/html": [
       "<div>\n",
       "<style scoped>\n",
       "    .dataframe tbody tr th:only-of-type {\n",
       "        vertical-align: middle;\n",
       "    }\n",
       "\n",
       "    .dataframe tbody tr th {\n",
       "        vertical-align: top;\n",
       "    }\n",
       "\n",
       "    .dataframe thead th {\n",
       "        text-align: right;\n",
       "    }\n",
       "</style>\n",
       "<table border=\"1\" class=\"dataframe\">\n",
       "  <thead>\n",
       "    <tr style=\"text-align: right;\">\n",
       "      <th></th>\n",
       "      <th>priority</th>\n",
       "      <th>time</th>\n",
       "      <th>avg</th>\n",
       "    </tr>\n",
       "  </thead>\n",
       "  <tbody>\n",
       "    <tr>\n",
       "      <th>0</th>\n",
       "      <td>3.441227</td>\n",
       "      <td>3852.0</td>\n",
       "      <td>7.797250</td>\n",
       "    </tr>\n",
       "    <tr>\n",
       "      <th>1</th>\n",
       "      <td>2.669130</td>\n",
       "      <td>3945.0</td>\n",
       "      <td>7.662935</td>\n",
       "    </tr>\n",
       "    <tr>\n",
       "      <th>2</th>\n",
       "      <td>5.430771</td>\n",
       "      <td>3846.0</td>\n",
       "      <td>7.931168</td>\n",
       "    </tr>\n",
       "    <tr>\n",
       "      <th>3</th>\n",
       "      <td>2.747908</td>\n",
       "      <td>3958.0</td>\n",
       "      <td>7.596126</td>\n",
       "    </tr>\n",
       "    <tr>\n",
       "      <th>4</th>\n",
       "      <td>3.109610</td>\n",
       "      <td>3921.0</td>\n",
       "      <td>10.742758</td>\n",
       "    </tr>\n",
       "    <tr>\n",
       "      <th>5</th>\n",
       "      <td>4.582481</td>\n",
       "      <td>3798.0</td>\n",
       "      <td>9.992466</td>\n",
       "    </tr>\n",
       "    <tr>\n",
       "      <th>6</th>\n",
       "      <td>2.090768</td>\n",
       "      <td>3970.0</td>\n",
       "      <td>10.867562</td>\n",
       "    </tr>\n",
       "    <tr>\n",
       "      <th>7</th>\n",
       "      <td>2.408363</td>\n",
       "      <td>3860.0</td>\n",
       "      <td>9.977128</td>\n",
       "    </tr>\n",
       "  </tbody>\n",
       "</table>\n",
       "</div>"
      ],
      "text/plain": [
       "   priority    time        avg\n",
       "0  3.441227  3852.0   7.797250\n",
       "1  2.669130  3945.0   7.662935\n",
       "2  5.430771  3846.0   7.931168\n",
       "3  2.747908  3958.0   7.596126\n",
       "4  3.109610  3921.0  10.742758\n",
       "5  4.582481  3798.0   9.992466\n",
       "6  2.090768  3970.0  10.867562\n",
       "7  2.408363  3860.0   9.977128"
      ]
     },
     "execution_count": 140,
     "metadata": {},
     "output_type": "execute_result"
    }
   ],
   "source": [
    "table = np.array([priority, time, avg]).T\n",
    "pd.DataFrame(table, columns=['priority', 'time', 'avg'])"
   ]
  },
  {
   "cell_type": "code",
   "execution_count": 141,
   "metadata": {},
   "outputs": [
    {
     "data": {
      "text/html": [
       "<div>\n",
       "<style scoped>\n",
       "    .dataframe tbody tr th:only-of-type {\n",
       "        vertical-align: middle;\n",
       "    }\n",
       "\n",
       "    .dataframe tbody tr th {\n",
       "        vertical-align: top;\n",
       "    }\n",
       "\n",
       "    .dataframe thead th {\n",
       "        text-align: right;\n",
       "    }\n",
       "</style>\n",
       "<table border=\"1\" class=\"dataframe\">\n",
       "  <thead>\n",
       "    <tr style=\"text-align: right;\">\n",
       "      <th></th>\n",
       "      <th>priority</th>\n",
       "      <th>time</th>\n",
       "      <th>avg</th>\n",
       "    </tr>\n",
       "  </thead>\n",
       "  <tbody>\n",
       "    <tr>\n",
       "      <th>6</th>\n",
       "      <td>2.090768</td>\n",
       "      <td>3970.0</td>\n",
       "      <td>10.867562</td>\n",
       "    </tr>\n",
       "    <tr>\n",
       "      <th>7</th>\n",
       "      <td>2.408363</td>\n",
       "      <td>3860.0</td>\n",
       "      <td>9.977128</td>\n",
       "    </tr>\n",
       "    <tr>\n",
       "      <th>1</th>\n",
       "      <td>2.669130</td>\n",
       "      <td>3945.0</td>\n",
       "      <td>7.662935</td>\n",
       "    </tr>\n",
       "    <tr>\n",
       "      <th>3</th>\n",
       "      <td>2.747908</td>\n",
       "      <td>3958.0</td>\n",
       "      <td>7.596126</td>\n",
       "    </tr>\n",
       "    <tr>\n",
       "      <th>4</th>\n",
       "      <td>3.109610</td>\n",
       "      <td>3921.0</td>\n",
       "      <td>10.742758</td>\n",
       "    </tr>\n",
       "    <tr>\n",
       "      <th>0</th>\n",
       "      <td>3.441227</td>\n",
       "      <td>3852.0</td>\n",
       "      <td>7.797250</td>\n",
       "    </tr>\n",
       "    <tr>\n",
       "      <th>5</th>\n",
       "      <td>4.582481</td>\n",
       "      <td>3798.0</td>\n",
       "      <td>9.992466</td>\n",
       "    </tr>\n",
       "    <tr>\n",
       "      <th>2</th>\n",
       "      <td>5.430771</td>\n",
       "      <td>3846.0</td>\n",
       "      <td>7.931168</td>\n",
       "    </tr>\n",
       "  </tbody>\n",
       "</table>\n",
       "</div>"
      ],
      "text/plain": [
       "   priority    time        avg\n",
       "6  2.090768  3970.0  10.867562\n",
       "7  2.408363  3860.0   9.977128\n",
       "1  2.669130  3945.0   7.662935\n",
       "3  2.747908  3958.0   7.596126\n",
       "4  3.109610  3921.0  10.742758\n",
       "0  3.441227  3852.0   7.797250\n",
       "5  4.582481  3798.0   9.992466\n",
       "2  5.430771  3846.0   7.931168"
      ]
     },
     "execution_count": 141,
     "metadata": {},
     "output_type": "execute_result"
    }
   ],
   "source": [
    "sorted = pd.DataFrame(table, columns=['priority', 'time', 'avg']).sort_values(by='priority')\n",
    "sorted"
   ]
  },
  {
   "cell_type": "code",
   "execution_count": 142,
   "metadata": {},
   "outputs": [],
   "source": [
    "from seaborn import kdeplot"
   ]
  },
  {
   "cell_type": "code",
   "execution_count": 143,
   "metadata": {},
   "outputs": [
    {
     "data": {
      "text/plain": [
       "<BarContainer object of 8 artists>"
      ]
     },
     "execution_count": 143,
     "metadata": {},
     "output_type": "execute_result"
    },
    {
     "data": {
      "image/png": "[encoded data removed]",
      "text/plain": [
       "<Figure size 1440x720 with 2 Axes>"
      ]
     },
     "metadata": {
      "needs_background": "light"
     },
     "output_type": "display_data"
    }
   ],
   "source": [
    "fig, (ax1, ax2) = plt.subplots(1,2, figsize=(20,10))\n",
    "\n",
    "ax1.bar( priority, avg,width=0.4, alpha=0.3)\n",
    "ax2.bar(priority, time, alpha=0.3)\n"
   ]
  },
  {
   "cell_type": "code",
   "execution_count": 144,
   "metadata": {},
   "outputs": [
    {
     "data": {
      "text/plain": [
       "3970.0"
      ]
     },
     "execution_count": 144,
     "metadata": {},
     "output_type": "execute_result"
    }
   ],
   "source": [
    "max(sorted['time'])"
   ]
  },
  {
   "cell_type": "code",
   "execution_count": 145,
   "metadata": {},
   "outputs": [
    {
     "data": {
      "text/plain": [
       "[<matplotlib.lines.Line2D at 0x7f11cbe46590>]"
      ]
     },
     "execution_count": 145,
     "metadata": {},
     "output_type": "execute_result"
    },
    {
     "data": {
      "image/png": "[encoded data removed]",
      "text/plain": [
       "<Figure size 432x288 with 1 Axes>"
      ]
     },
     "metadata": {
      "needs_background": "light"
     },
     "output_type": "display_data"
    }
   ],
   "source": [
    "plt.plot(sorted['time'])"
   ]
  },
  {
   "cell_type": "code",
   "execution_count": 146,
   "metadata": {},
   "outputs": [
    {
     "data": {
      "text/plain": [
       "(array([4, 2, 1, 1]),\n",
       " array([2.0907676 , 2.92576849, 3.76076939, 4.59577029, 5.43077119]))"
      ]
     },
     "execution_count": 146,
     "metadata": {},
     "output_type": "execute_result"
    }
   ],
   "source": [
    "bins = np.histogram(sorted['priority'],4)\n",
    "bins"
   ]
  },
  {
   "cell_type": "code",
   "execution_count": 147,
   "metadata": {},
   "outputs": [],
   "source": [
    "classes = np.digitize(sorted['priority'], [-np.inf,1,2,4,5,np.inf])"
   ]
  },
  {
   "cell_type": "code",
   "execution_count": 148,
   "metadata": {},
   "outputs": [
    {
     "data": {
      "text/plain": [
       "(array([3, 4, 5]), array([6, 1, 1]))"
      ]
     },
     "execution_count": 148,
     "metadata": {},
     "output_type": "execute_result"
    }
   ],
   "source": [
    "np.unique(classes, return_counts=True)"
   ]
  },
  {
   "cell_type": "code",
   "execution_count": 149,
   "metadata": {},
   "outputs": [
    {
     "data": {
      "text/html": [
       "<div>\n",
       "<style scoped>\n",
       "    .dataframe tbody tr th:only-of-type {\n",
       "        vertical-align: middle;\n",
       "    }\n",
       "\n",
       "    .dataframe tbody tr th {\n",
       "        vertical-align: top;\n",
       "    }\n",
       "\n",
       "    .dataframe thead th {\n",
       "        text-align: right;\n",
       "    }\n",
       "</style>\n",
       "<table border=\"1\" class=\"dataframe\">\n",
       "  <thead>\n",
       "    <tr style=\"text-align: right;\">\n",
       "      <th></th>\n",
       "      <th>priority</th>\n",
       "      <th>time</th>\n",
       "      <th>avg</th>\n",
       "      <th>class</th>\n",
       "    </tr>\n",
       "  </thead>\n",
       "  <tbody>\n",
       "    <tr>\n",
       "      <th>6</th>\n",
       "      <td>2.090768</td>\n",
       "      <td>3970.0</td>\n",
       "      <td>10.867562</td>\n",
       "      <td>3</td>\n",
       "    </tr>\n",
       "    <tr>\n",
       "      <th>7</th>\n",
       "      <td>2.408363</td>\n",
       "      <td>3860.0</td>\n",
       "      <td>9.977128</td>\n",
       "      <td>3</td>\n",
       "    </tr>\n",
       "    <tr>\n",
       "      <th>1</th>\n",
       "      <td>2.669130</td>\n",
       "      <td>3945.0</td>\n",
       "      <td>7.662935</td>\n",
       "      <td>3</td>\n",
       "    </tr>\n",
       "    <tr>\n",
       "      <th>3</th>\n",
       "      <td>2.747908</td>\n",
       "      <td>3958.0</td>\n",
       "      <td>7.596126</td>\n",
       "      <td>3</td>\n",
       "    </tr>\n",
       "    <tr>\n",
       "      <th>4</th>\n",
       "      <td>3.109610</td>\n",
       "      <td>3921.0</td>\n",
       "      <td>10.742758</td>\n",
       "      <td>3</td>\n",
       "    </tr>\n",
       "    <tr>\n",
       "      <th>0</th>\n",
       "      <td>3.441227</td>\n",
       "      <td>3852.0</td>\n",
       "      <td>7.797250</td>\n",
       "      <td>3</td>\n",
       "    </tr>\n",
       "    <tr>\n",
       "      <th>5</th>\n",
       "      <td>4.582481</td>\n",
       "      <td>3798.0</td>\n",
       "      <td>9.992466</td>\n",
       "      <td>4</td>\n",
       "    </tr>\n",
       "    <tr>\n",
       "      <th>2</th>\n",
       "      <td>5.430771</td>\n",
       "      <td>3846.0</td>\n",
       "      <td>7.931168</td>\n",
       "      <td>5</td>\n",
       "    </tr>\n",
       "  </tbody>\n",
       "</table>\n",
       "</div>"
      ],
      "text/plain": [
       "   priority    time        avg  class\n",
       "6  2.090768  3970.0  10.867562      3\n",
       "7  2.408363  3860.0   9.977128      3\n",
       "1  2.669130  3945.0   7.662935      3\n",
       "3  2.747908  3958.0   7.596126      3\n",
       "4  3.109610  3921.0  10.742758      3\n",
       "0  3.441227  3852.0   7.797250      3\n",
       "5  4.582481  3798.0   9.992466      4\n",
       "2  5.430771  3846.0   7.931168      5"
      ]
     },
     "execution_count": 149,
     "metadata": {},
     "output_type": "execute_result"
    }
   ],
   "source": [
    "sorted['class'] = classes\n",
    "sorted"
   ]
  },
  {
   "cell_type": "code",
   "execution_count": 150,
   "metadata": {},
   "outputs": [
    {
     "data": {
      "text/plain": [
       "priority       3.310032\n",
       "time        3893.750000\n",
       "avg            9.070924\n",
       "class          3.375000\n",
       "dtype: float64"
      ]
     },
     "execution_count": 150,
     "metadata": {},
     "output_type": "execute_result"
    }
   ],
   "source": [
    "sorted.mean()"
   ]
  },
  {
   "cell_type": "code",
   "execution_count": 151,
   "metadata": {},
   "outputs": [
    {
     "data": {
      "text/plain": [
       "priority     1.146448\n",
       "time        62.839364\n",
       "avg          1.452689\n",
       "class        0.744024\n",
       "dtype: float64"
      ]
     },
     "execution_count": 151,
     "metadata": {},
     "output_type": "execute_result"
    }
   ],
   "source": [
    "sorted.std()"
   ]
  },
  {
   "cell_type": "code",
   "execution_count": 152,
   "metadata": {},
   "outputs": [
    {
     "data": {
      "text/html": [
       "<div>\n",
       "<style scoped>\n",
       "    .dataframe tbody tr th:only-of-type {\n",
       "        vertical-align: middle;\n",
       "    }\n",
       "\n",
       "    .dataframe tbody tr th {\n",
       "        vertical-align: top;\n",
       "    }\n",
       "\n",
       "    .dataframe thead th {\n",
       "        text-align: right;\n",
       "    }\n",
       "</style>\n",
       "<table border=\"1\" class=\"dataframe\">\n",
       "  <thead>\n",
       "    <tr style=\"text-align: right;\">\n",
       "      <th></th>\n",
       "      <th>priority</th>\n",
       "      <th>time</th>\n",
       "      <th>avg</th>\n",
       "      <th>class</th>\n",
       "    </tr>\n",
       "  </thead>\n",
       "  <tbody>\n",
       "    <tr>\n",
       "      <th>0</th>\n",
       "      <td>NaN</td>\n",
       "      <td>NaN</td>\n",
       "      <td>NaN</td>\n",
       "      <td>NaN</td>\n",
       "    </tr>\n",
       "    <tr>\n",
       "      <th>1</th>\n",
       "      <td>NaN</td>\n",
       "      <td>NaN</td>\n",
       "      <td>NaN</td>\n",
       "      <td>NaN</td>\n",
       "    </tr>\n",
       "    <tr>\n",
       "      <th>2</th>\n",
       "      <td>2.744501</td>\n",
       "      <td>3917.666667</td>\n",
       "      <td>9.107293</td>\n",
       "      <td>3.0</td>\n",
       "    </tr>\n",
       "    <tr>\n",
       "      <th>3</th>\n",
       "      <td>4.582481</td>\n",
       "      <td>3798.000000</td>\n",
       "      <td>9.992466</td>\n",
       "      <td>4.0</td>\n",
       "    </tr>\n",
       "    <tr>\n",
       "      <th>4</th>\n",
       "      <td>5.430771</td>\n",
       "      <td>3846.000000</td>\n",
       "      <td>7.931168</td>\n",
       "      <td>5.0</td>\n",
       "    </tr>\n",
       "    <tr>\n",
       "      <th>5</th>\n",
       "      <td>NaN</td>\n",
       "      <td>NaN</td>\n",
       "      <td>NaN</td>\n",
       "      <td>NaN</td>\n",
       "    </tr>\n",
       "  </tbody>\n",
       "</table>\n",
       "</div>"
      ],
      "text/plain": [
       "   priority         time       avg  class\n",
       "0       NaN          NaN       NaN    NaN\n",
       "1       NaN          NaN       NaN    NaN\n",
       "2  2.744501  3917.666667  9.107293    3.0\n",
       "3  4.582481  3798.000000  9.992466    4.0\n",
       "4  5.430771  3846.000000  7.931168    5.0\n",
       "5       NaN          NaN       NaN    NaN"
      ]
     },
     "execution_count": 152,
     "metadata": {},
     "output_type": "execute_result"
    }
   ],
   "source": [
    "mean = pd.DataFrame(sorted[sorted['class']==i].mean() for i in range(1,7))\n",
    "mean"
   ]
  },
  {
   "cell_type": "code",
   "execution_count": 153,
   "metadata": {},
   "outputs": [
    {
     "data": {
      "text/html": [
       "<div>\n",
       "<style scoped>\n",
       "    .dataframe tbody tr th:only-of-type {\n",
       "        vertical-align: middle;\n",
       "    }\n",
       "\n",
       "    .dataframe tbody tr th {\n",
       "        vertical-align: top;\n",
       "    }\n",
       "\n",
       "    .dataframe thead th {\n",
       "        text-align: right;\n",
       "    }\n",
       "</style>\n",
       "<table border=\"1\" class=\"dataframe\">\n",
       "  <thead>\n",
       "    <tr style=\"text-align: right;\">\n",
       "      <th></th>\n",
       "      <th>priority</th>\n",
       "      <th>time</th>\n",
       "      <th>avg</th>\n",
       "      <th>class</th>\n",
       "    </tr>\n",
       "  </thead>\n",
       "  <tbody>\n",
       "    <tr>\n",
       "      <th>0</th>\n",
       "      <td>NaN</td>\n",
       "      <td>NaN</td>\n",
       "      <td>NaN</td>\n",
       "      <td>NaN</td>\n",
       "    </tr>\n",
       "    <tr>\n",
       "      <th>1</th>\n",
       "      <td>NaN</td>\n",
       "      <td>NaN</td>\n",
       "      <td>NaN</td>\n",
       "      <td>NaN</td>\n",
       "    </tr>\n",
       "    <tr>\n",
       "      <th>2</th>\n",
       "      <td>0.482655</td>\n",
       "      <td>50.519963</td>\n",
       "      <td>1.588453</td>\n",
       "      <td>0.0</td>\n",
       "    </tr>\n",
       "    <tr>\n",
       "      <th>3</th>\n",
       "      <td>NaN</td>\n",
       "      <td>NaN</td>\n",
       "      <td>NaN</td>\n",
       "      <td>NaN</td>\n",
       "    </tr>\n",
       "    <tr>\n",
       "      <th>4</th>\n",
       "      <td>NaN</td>\n",
       "      <td>NaN</td>\n",
       "      <td>NaN</td>\n",
       "      <td>NaN</td>\n",
       "    </tr>\n",
       "  </tbody>\n",
       "</table>\n",
       "</div>"
      ],
      "text/plain": [
       "   priority       time       avg  class\n",
       "0       NaN        NaN       NaN    NaN\n",
       "1       NaN        NaN       NaN    NaN\n",
       "2  0.482655  50.519963  1.588453    0.0\n",
       "3       NaN        NaN       NaN    NaN\n",
       "4       NaN        NaN       NaN    NaN"
      ]
     },
     "execution_count": 153,
     "metadata": {},
     "output_type": "execute_result"
    }
   ],
   "source": [
    "std = pd.DataFrame(sorted[sorted['class']==i].std() for i in range(1,6))\n",
    "std"
   ]
  },
  {
   "cell_type": "code",
   "execution_count": 154,
   "metadata": {},
   "outputs": [],
   "source": [
    "classes = [1,2,3,4,5,6]"
   ]
  },
  {
   "attachments": {},
   "cell_type": "markdown",
   "metadata": {},
   "source": [
    "priority(all)   avg time   avg min space\n",
    "</br>\n",
    "3.0\t  9989.375\t  2.352072"
   ]
  },
  {
   "cell_type": "code",
   "execution_count": 155,
   "metadata": {},
   "outputs": [
    {
     "data": {
      "text/html": [
       "<div>\n",
       "<style scoped>\n",
       "    .dataframe tbody tr th:only-of-type {\n",
       "        vertical-align: middle;\n",
       "    }\n",
       "\n",
       "    .dataframe tbody tr th {\n",
       "        vertical-align: top;\n",
       "    }\n",
       "\n",
       "    .dataframe thead th {\n",
       "        text-align: right;\n",
       "    }\n",
       "</style>\n",
       "<table border=\"1\" class=\"dataframe\">\n",
       "  <thead>\n",
       "    <tr style=\"text-align: right;\">\n",
       "      <th></th>\n",
       "      <th>Unnamed: 0</th>\n",
       "      <th>n</th>\n",
       "      <th>time w/o p</th>\n",
       "      <th>time 0</th>\n",
       "      <th>time 1</th>\n",
       "      <th>time 2</th>\n",
       "      <th>time 3</th>\n",
       "      <th>time 4</th>\n",
       "      <th>space w/o p</th>\n",
       "      <th>space 0</th>\n",
       "      <th>space 1</th>\n",
       "      <th>space 2</th>\n",
       "      <th>space 3</th>\n",
       "      <th>space 4</th>\n",
       "    </tr>\n",
       "  </thead>\n",
       "  <tbody>\n",
       "    <tr>\n",
       "      <th>0</th>\n",
       "      <td>0</td>\n",
       "      <td>4.0</td>\n",
       "      <td>3416.227500</td>\n",
       "      <td>3450.000000</td>\n",
       "      <td>3435.188679</td>\n",
       "      <td>3421.589091</td>\n",
       "      <td>3416.672727</td>\n",
       "      <td>3416.100000</td>\n",
       "      <td>10.375820</td>\n",
       "      <td>10.534822</td>\n",
       "      <td>10.410884</td>\n",
       "      <td>10.380548</td>\n",
       "      <td>10.302012</td>\n",
       "      <td>10.268028</td>\n",
       "    </tr>\n",
       "    <tr>\n",
       "      <th>1</th>\n",
       "      <td>1</td>\n",
       "      <td>8.0</td>\n",
       "      <td>3507.492500</td>\n",
       "      <td>3676.500000</td>\n",
       "      <td>3574.575000</td>\n",
       "      <td>3529.640977</td>\n",
       "      <td>3513.669565</td>\n",
       "      <td>3501.608696</td>\n",
       "      <td>8.915071</td>\n",
       "      <td>9.493752</td>\n",
       "      <td>9.141487</td>\n",
       "      <td>8.975963</td>\n",
       "      <td>8.701778</td>\n",
       "      <td>9.204849</td>\n",
       "    </tr>\n",
       "    <tr>\n",
       "      <th>2</th>\n",
       "      <td>2</td>\n",
       "      <td>12.0</td>\n",
       "      <td>3579.130000</td>\n",
       "      <td>3866.514286</td>\n",
       "      <td>3732.318681</td>\n",
       "      <td>3623.220403</td>\n",
       "      <td>3569.784431</td>\n",
       "      <td>3567.954545</td>\n",
       "      <td>7.997934</td>\n",
       "      <td>8.491035</td>\n",
       "      <td>8.451266</td>\n",
       "      <td>8.308227</td>\n",
       "      <td>8.180190</td>\n",
       "      <td>8.058163</td>\n",
       "    </tr>\n",
       "    <tr>\n",
       "      <th>3</th>\n",
       "      <td>3</td>\n",
       "      <td>16.0</td>\n",
       "      <td>3679.287500</td>\n",
       "      <td>4791.297297</td>\n",
       "      <td>3916.637255</td>\n",
       "      <td>3713.876444</td>\n",
       "      <td>3614.504717</td>\n",
       "      <td>3602.545455</td>\n",
       "      <td>7.540923</td>\n",
       "      <td>7.566398</td>\n",
       "      <td>7.843866</td>\n",
       "      <td>7.937354</td>\n",
       "      <td>7.942837</td>\n",
       "      <td>7.978620</td>\n",
       "    </tr>\n",
       "    <tr>\n",
       "      <th>4</th>\n",
       "      <td>4</td>\n",
       "      <td>20.0</td>\n",
       "      <td>3797.873000</td>\n",
       "      <td>4430.052632</td>\n",
       "      <td>4070.637405</td>\n",
       "      <td>3809.259019</td>\n",
       "      <td>3660.100358</td>\n",
       "      <td>3640.114286</td>\n",
       "      <td>7.134487</td>\n",
       "      <td>7.682470</td>\n",
       "      <td>7.762671</td>\n",
       "      <td>7.628807</td>\n",
       "      <td>7.739251</td>\n",
       "      <td>8.083141</td>\n",
       "    </tr>\n",
       "    <tr>\n",
       "      <th>5</th>\n",
       "      <td>5</td>\n",
       "      <td>24.0</td>\n",
       "      <td>4015.601667</td>\n",
       "      <td>5152.461538</td>\n",
       "      <td>4240.135647</td>\n",
       "      <td>3896.371027</td>\n",
       "      <td>3709.717325</td>\n",
       "      <td>3678.303030</td>\n",
       "      <td>6.803383</td>\n",
       "      <td>7.522469</td>\n",
       "      <td>7.459135</td>\n",
       "      <td>7.515671</td>\n",
       "      <td>7.446154</td>\n",
       "      <td>7.949425</td>\n",
       "    </tr>\n",
       "    <tr>\n",
       "      <th>6</th>\n",
       "      <td>6</td>\n",
       "      <td>0.0</td>\n",
       "      <td>0.000000</td>\n",
       "      <td>0.000000</td>\n",
       "      <td>0.000000</td>\n",
       "      <td>0.000000</td>\n",
       "      <td>0.000000</td>\n",
       "      <td>0.000000</td>\n",
       "      <td>0.000000</td>\n",
       "      <td>0.000000</td>\n",
       "      <td>0.000000</td>\n",
       "      <td>0.000000</td>\n",
       "      <td>0.000000</td>\n",
       "      <td>0.000000</td>\n",
       "    </tr>\n",
       "  </tbody>\n",
       "</table>\n",
       "</div>"
      ],
      "text/plain": [
       "   Unnamed: 0     n   time w/o p       time 0       time 1       time 2  \\\n",
       "0           0   4.0  3416.227500  3450.000000  3435.188679  3421.589091   \n",
       "1           1   8.0  3507.492500  3676.500000  3574.575000  3529.640977   \n",
       "2           2  12.0  3579.130000  3866.514286  3732.318681  3623.220403   \n",
       "3           3  16.0  3679.287500  4791.297297  3916.637255  3713.876444   \n",
       "4           4  20.0  3797.873000  4430.052632  4070.637405  3809.259019   \n",
       "5           5  24.0  4015.601667  5152.461538  4240.135647  3896.371027   \n",
       "6           6   0.0     0.000000     0.000000     0.000000     0.000000   \n",
       "\n",
       "        time 3       time 4  space w/o p    space 0    space 1    space 2  \\\n",
       "0  3416.672727  3416.100000    10.375820  10.534822  10.410884  10.380548   \n",
       "1  3513.669565  3501.608696     8.915071   9.493752   9.141487   8.975963   \n",
       "2  3569.784431  3567.954545     7.997934   8.491035   8.451266   8.308227   \n",
       "3  3614.504717  3602.545455     7.540923   7.566398   7.843866   7.937354   \n",
       "4  3660.100358  3640.114286     7.134487   7.682470   7.762671   7.628807   \n",
       "5  3709.717325  3678.303030     6.803383   7.522469   7.459135   7.515671   \n",
       "6     0.000000     0.000000     0.000000   0.000000   0.000000   0.000000   \n",
       "\n",
       "     space 3    space 4  \n",
       "0  10.302012  10.268028  \n",
       "1   8.701778   9.204849  \n",
       "2   8.180190   8.058163  \n",
       "3   7.942837   7.978620  \n",
       "4   7.739251   8.083141  \n",
       "5   7.446154   7.949425  \n",
       "6   0.000000   0.000000  "
      ]
     },
     "execution_count": 155,
     "metadata": {},
     "output_type": "execute_result"
    }
   ],
   "source": [
    "pd.read_csv('stat_data.csv')"
   ]
  },
  {
   "cell_type": "code",
   "execution_count": 156,
   "metadata": {},
   "outputs": [
    {
     "data": {
      "text/html": [
       "<div>\n",
       "<style scoped>\n",
       "    .dataframe tbody tr th:only-of-type {\n",
       "        vertical-align: middle;\n",
       "    }\n",
       "\n",
       "    .dataframe tbody tr th {\n",
       "        vertical-align: top;\n",
       "    }\n",
       "\n",
       "    .dataframe thead th {\n",
       "        text-align: right;\n",
       "    }\n",
       "</style>\n",
       "<table border=\"1\" class=\"dataframe\">\n",
       "  <thead>\n",
       "    <tr style=\"text-align: right;\">\n",
       "      <th></th>\n",
       "      <th>Unnamed: 0</th>\n",
       "      <th>n</th>\n",
       "      <th>time w/o p</th>\n",
       "      <th>time 0</th>\n",
       "      <th>time 1</th>\n",
       "      <th>time 2</th>\n",
       "      <th>time 3</th>\n",
       "      <th>time 4</th>\n",
       "      <th>space w/o p</th>\n",
       "      <th>space 0</th>\n",
       "      <th>space 1</th>\n",
       "      <th>space 2</th>\n",
       "      <th>space 3</th>\n",
       "      <th>space 4</th>\n",
       "    </tr>\n",
       "  </thead>\n",
       "  <tbody>\n",
       "    <tr>\n",
       "      <th>0</th>\n",
       "      <td>0</td>\n",
       "      <td>4.0</td>\n",
       "      <td>3416.227500</td>\n",
       "      <td>3450.000000</td>\n",
       "      <td>3435.188679</td>\n",
       "      <td>3421.589091</td>\n",
       "      <td>3416.672727</td>\n",
       "      <td>3416.100000</td>\n",
       "      <td>10.375820</td>\n",
       "      <td>10.534822</td>\n",
       "      <td>10.410884</td>\n",
       "      <td>10.380548</td>\n",
       "      <td>10.302012</td>\n",
       "      <td>10.268028</td>\n",
       "    </tr>\n",
       "    <tr>\n",
       "      <th>1</th>\n",
       "      <td>1</td>\n",
       "      <td>8.0</td>\n",
       "      <td>3507.492500</td>\n",
       "      <td>3676.500000</td>\n",
       "      <td>3574.575000</td>\n",
       "      <td>3529.640977</td>\n",
       "      <td>3513.669565</td>\n",
       "      <td>3501.608696</td>\n",
       "      <td>8.915071</td>\n",
       "      <td>9.493752</td>\n",
       "      <td>9.141487</td>\n",
       "      <td>8.975963</td>\n",
       "      <td>8.701778</td>\n",
       "      <td>9.204849</td>\n",
       "    </tr>\n",
       "    <tr>\n",
       "      <th>2</th>\n",
       "      <td>2</td>\n",
       "      <td>12.0</td>\n",
       "      <td>3579.130000</td>\n",
       "      <td>3866.514286</td>\n",
       "      <td>3732.318681</td>\n",
       "      <td>3623.220403</td>\n",
       "      <td>3569.784431</td>\n",
       "      <td>3567.954545</td>\n",
       "      <td>7.997934</td>\n",
       "      <td>8.491035</td>\n",
       "      <td>8.451266</td>\n",
       "      <td>8.308227</td>\n",
       "      <td>8.180190</td>\n",
       "      <td>8.058163</td>\n",
       "    </tr>\n",
       "    <tr>\n",
       "      <th>3</th>\n",
       "      <td>3</td>\n",
       "      <td>16.0</td>\n",
       "      <td>3679.287500</td>\n",
       "      <td>4791.297297</td>\n",
       "      <td>3916.637255</td>\n",
       "      <td>3713.876444</td>\n",
       "      <td>3614.504717</td>\n",
       "      <td>3602.545455</td>\n",
       "      <td>7.540923</td>\n",
       "      <td>7.566398</td>\n",
       "      <td>7.843866</td>\n",
       "      <td>7.937354</td>\n",
       "      <td>7.942837</td>\n",
       "      <td>7.978620</td>\n",
       "    </tr>\n",
       "    <tr>\n",
       "      <th>4</th>\n",
       "      <td>4</td>\n",
       "      <td>20.0</td>\n",
       "      <td>3797.873000</td>\n",
       "      <td>4430.052632</td>\n",
       "      <td>4070.637405</td>\n",
       "      <td>3809.259019</td>\n",
       "      <td>3660.100358</td>\n",
       "      <td>3640.114286</td>\n",
       "      <td>7.134487</td>\n",
       "      <td>7.682470</td>\n",
       "      <td>7.762671</td>\n",
       "      <td>7.628807</td>\n",
       "      <td>7.739251</td>\n",
       "      <td>8.083141</td>\n",
       "    </tr>\n",
       "    <tr>\n",
       "      <th>5</th>\n",
       "      <td>5</td>\n",
       "      <td>24.0</td>\n",
       "      <td>4015.601667</td>\n",
       "      <td>5152.461538</td>\n",
       "      <td>4240.135647</td>\n",
       "      <td>3896.371027</td>\n",
       "      <td>3709.717325</td>\n",
       "      <td>3678.303030</td>\n",
       "      <td>6.803383</td>\n",
       "      <td>7.522469</td>\n",
       "      <td>7.459135</td>\n",
       "      <td>7.515671</td>\n",
       "      <td>7.446154</td>\n",
       "      <td>7.949425</td>\n",
       "    </tr>\n",
       "    <tr>\n",
       "      <th>6</th>\n",
       "      <td>6</td>\n",
       "      <td>0.0</td>\n",
       "      <td>0.000000</td>\n",
       "      <td>0.000000</td>\n",
       "      <td>0.000000</td>\n",
       "      <td>0.000000</td>\n",
       "      <td>0.000000</td>\n",
       "      <td>0.000000</td>\n",
       "      <td>0.000000</td>\n",
       "      <td>0.000000</td>\n",
       "      <td>0.000000</td>\n",
       "      <td>0.000000</td>\n",
       "      <td>0.000000</td>\n",
       "      <td>0.000000</td>\n",
       "    </tr>\n",
       "  </tbody>\n",
       "</table>\n",
       "</div>"
      ],
      "text/plain": [
       "   Unnamed: 0     n   time w/o p       time 0       time 1       time 2  \\\n",
       "0           0   4.0  3416.227500  3450.000000  3435.188679  3421.589091   \n",
       "1           1   8.0  3507.492500  3676.500000  3574.575000  3529.640977   \n",
       "2           2  12.0  3579.130000  3866.514286  3732.318681  3623.220403   \n",
       "3           3  16.0  3679.287500  4791.297297  3916.637255  3713.876444   \n",
       "4           4  20.0  3797.873000  4430.052632  4070.637405  3809.259019   \n",
       "5           5  24.0  4015.601667  5152.461538  4240.135647  3896.371027   \n",
       "6           6   0.0     0.000000     0.000000     0.000000     0.000000   \n",
       "\n",
       "        time 3       time 4  space w/o p    space 0    space 1    space 2  \\\n",
       "0  3416.672727  3416.100000    10.375820  10.534822  10.410884  10.380548   \n",
       "1  3513.669565  3501.608696     8.915071   9.493752   9.141487   8.975963   \n",
       "2  3569.784431  3567.954545     7.997934   8.491035   8.451266   8.308227   \n",
       "3  3614.504717  3602.545455     7.540923   7.566398   7.843866   7.937354   \n",
       "4  3660.100358  3640.114286     7.134487   7.682470   7.762671   7.628807   \n",
       "5  3709.717325  3678.303030     6.803383   7.522469   7.459135   7.515671   \n",
       "6     0.000000     0.000000     0.000000   0.000000   0.000000   0.000000   \n",
       "\n",
       "     space 3    space 4  \n",
       "0  10.302012  10.268028  \n",
       "1   8.701778   9.204849  \n",
       "2   8.180190   8.058163  \n",
       "3   7.942837   7.978620  \n",
       "4   7.739251   8.083141  \n",
       "5   7.446154   7.949425  \n",
       "6   0.000000   0.000000  "
      ]
     },
     "execution_count": 156,
     "metadata": {},
     "output_type": "execute_result"
    }
   ],
   "source": [
    "data = pd.read_csv('stat_data.csv')\n",
    "data"
   ]
  },
  {
   "cell_type": "code",
   "execution_count": 157,
   "metadata": {},
   "outputs": [],
   "source": [
    "from hyperparameters import delt"
   ]
  },
  {
   "cell_type": "code",
   "execution_count": 158,
   "metadata": {},
   "outputs": [],
   "source": [
    "time_data = data.iloc[:,2:8]\n",
    "time_data = time_data*delt"
   ]
  },
  {
   "cell_type": "code",
   "execution_count": 159,
   "metadata": {},
   "outputs": [
    {
     "data": {
      "text/html": [
       "<div>\n",
       "<style scoped>\n",
       "    .dataframe tbody tr th:only-of-type {\n",
       "        vertical-align: middle;\n",
       "    }\n",
       "\n",
       "    .dataframe tbody tr th {\n",
       "        vertical-align: top;\n",
       "    }\n",
       "\n",
       "    .dataframe thead th {\n",
       "        text-align: right;\n",
       "    }\n",
       "</style>\n",
       "<table border=\"1\" class=\"dataframe\">\n",
       "  <thead>\n",
       "    <tr style=\"text-align: right;\">\n",
       "      <th></th>\n",
       "      <th>time w/o p</th>\n",
       "      <th>time 0</th>\n",
       "      <th>time 1</th>\n",
       "      <th>time 2</th>\n",
       "      <th>time 3</th>\n",
       "      <th>time 4</th>\n",
       "    </tr>\n",
       "  </thead>\n",
       "  <tbody>\n",
       "    <tr>\n",
       "      <th>0</th>\n",
       "      <td>34.162275</td>\n",
       "      <td>34.500000</td>\n",
       "      <td>34.351887</td>\n",
       "      <td>34.215891</td>\n",
       "      <td>34.166727</td>\n",
       "      <td>34.161000</td>\n",
       "    </tr>\n",
       "    <tr>\n",
       "      <th>1</th>\n",
       "      <td>35.074925</td>\n",
       "      <td>36.765000</td>\n",
       "      <td>35.745750</td>\n",
       "      <td>35.296410</td>\n",
       "      <td>35.136696</td>\n",
       "      <td>35.016087</td>\n",
       "    </tr>\n",
       "    <tr>\n",
       "      <th>2</th>\n",
       "      <td>35.791300</td>\n",
       "      <td>38.665143</td>\n",
       "      <td>37.323187</td>\n",
       "      <td>36.232204</td>\n",
       "      <td>35.697844</td>\n",
       "      <td>35.679545</td>\n",
       "    </tr>\n",
       "    <tr>\n",
       "      <th>3</th>\n",
       "      <td>36.792875</td>\n",
       "      <td>47.912973</td>\n",
       "      <td>39.166373</td>\n",
       "      <td>37.138764</td>\n",
       "      <td>36.145047</td>\n",
       "      <td>36.025455</td>\n",
       "    </tr>\n",
       "    <tr>\n",
       "      <th>4</th>\n",
       "      <td>37.978730</td>\n",
       "      <td>44.300526</td>\n",
       "      <td>40.706374</td>\n",
       "      <td>38.092590</td>\n",
       "      <td>36.601004</td>\n",
       "      <td>36.401143</td>\n",
       "    </tr>\n",
       "    <tr>\n",
       "      <th>5</th>\n",
       "      <td>40.156017</td>\n",
       "      <td>51.524615</td>\n",
       "      <td>42.401356</td>\n",
       "      <td>38.963710</td>\n",
       "      <td>37.097173</td>\n",
       "      <td>36.783030</td>\n",
       "    </tr>\n",
       "    <tr>\n",
       "      <th>6</th>\n",
       "      <td>0.000000</td>\n",
       "      <td>0.000000</td>\n",
       "      <td>0.000000</td>\n",
       "      <td>0.000000</td>\n",
       "      <td>0.000000</td>\n",
       "      <td>0.000000</td>\n",
       "    </tr>\n",
       "  </tbody>\n",
       "</table>\n",
       "</div>"
      ],
      "text/plain": [
       "   time w/o p     time 0     time 1     time 2     time 3     time 4\n",
       "0   34.162275  34.500000  34.351887  34.215891  34.166727  34.161000\n",
       "1   35.074925  36.765000  35.745750  35.296410  35.136696  35.016087\n",
       "2   35.791300  38.665143  37.323187  36.232204  35.697844  35.679545\n",
       "3   36.792875  47.912973  39.166373  37.138764  36.145047  36.025455\n",
       "4   37.978730  44.300526  40.706374  38.092590  36.601004  36.401143\n",
       "5   40.156017  51.524615  42.401356  38.963710  37.097173  36.783030\n",
       "6    0.000000   0.000000   0.000000   0.000000   0.000000   0.000000"
      ]
     },
     "execution_count": 159,
     "metadata": {},
     "output_type": "execute_result"
    }
   ],
   "source": [
    "time_data"
   ]
  },
  {
   "cell_type": "code",
   "execution_count": 160,
   "metadata": {},
   "outputs": [
    {
     "data": {
      "text/html": [
       "<div>\n",
       "<style scoped>\n",
       "    .dataframe tbody tr th:only-of-type {\n",
       "        vertical-align: middle;\n",
       "    }\n",
       "\n",
       "    .dataframe tbody tr th {\n",
       "        vertical-align: top;\n",
       "    }\n",
       "\n",
       "    .dataframe thead th {\n",
       "        text-align: right;\n",
       "    }\n",
       "</style>\n",
       "<table border=\"1\" class=\"dataframe\">\n",
       "  <thead>\n",
       "    <tr style=\"text-align: right;\">\n",
       "      <th></th>\n",
       "      <th>time w/o p</th>\n",
       "      <th>time 0</th>\n",
       "      <th>time 1</th>\n",
       "      <th>time 2</th>\n",
       "      <th>time 3</th>\n",
       "      <th>time 4</th>\n",
       "    </tr>\n",
       "  </thead>\n",
       "  <tbody>\n",
       "    <tr>\n",
       "      <th>0</th>\n",
       "      <td>34.162275</td>\n",
       "      <td>0.988590</td>\n",
       "      <td>0.555033</td>\n",
       "      <td>0.156945</td>\n",
       "      <td>0.013033</td>\n",
       "      <td>-0.003732</td>\n",
       "    </tr>\n",
       "    <tr>\n",
       "      <th>1</th>\n",
       "      <td>35.074925</td>\n",
       "      <td>4.818471</td>\n",
       "      <td>1.912549</td>\n",
       "      <td>0.631462</td>\n",
       "      <td>0.176111</td>\n",
       "      <td>-0.167750</td>\n",
       "    </tr>\n",
       "    <tr>\n",
       "      <th>2</th>\n",
       "      <td>35.791300</td>\n",
       "      <td>8.029445</td>\n",
       "      <td>4.280054</td>\n",
       "      <td>1.231875</td>\n",
       "      <td>-0.261113</td>\n",
       "      <td>-0.312239</td>\n",
       "    </tr>\n",
       "    <tr>\n",
       "      <th>3</th>\n",
       "      <td>36.792875</td>\n",
       "      <td>30.223509</td>\n",
       "      <td>6.450971</td>\n",
       "      <td>0.940099</td>\n",
       "      <td>-1.760743</td>\n",
       "      <td>-2.085786</td>\n",
       "    </tr>\n",
       "    <tr>\n",
       "      <th>4</th>\n",
       "      <td>37.978730</td>\n",
       "      <td>16.645623</td>\n",
       "      <td>7.182031</td>\n",
       "      <td>0.299800</td>\n",
       "      <td>-3.627626</td>\n",
       "      <td>-4.153870</td>\n",
       "    </tr>\n",
       "    <tr>\n",
       "      <th>5</th>\n",
       "      <td>40.156017</td>\n",
       "      <td>28.311072</td>\n",
       "      <td>5.591540</td>\n",
       "      <td>-2.969185</td>\n",
       "      <td>-7.617398</td>\n",
       "      <td>-8.399704</td>\n",
       "    </tr>\n",
       "    <tr>\n",
       "      <th>6</th>\n",
       "      <td>0.000000</td>\n",
       "      <td>NaN</td>\n",
       "      <td>NaN</td>\n",
       "      <td>NaN</td>\n",
       "      <td>NaN</td>\n",
       "      <td>NaN</td>\n",
       "    </tr>\n",
       "  </tbody>\n",
       "</table>\n",
       "</div>"
      ],
      "text/plain": [
       "   time w/o p     time 0    time 1    time 2    time 3    time 4\n",
       "0   34.162275   0.988590  0.555033  0.156945  0.013033 -0.003732\n",
       "1   35.074925   4.818471  1.912549  0.631462  0.176111 -0.167750\n",
       "2   35.791300   8.029445  4.280054  1.231875 -0.261113 -0.312239\n",
       "3   36.792875  30.223509  6.450971  0.940099 -1.760743 -2.085786\n",
       "4   37.978730  16.645623  7.182031  0.299800 -3.627626 -4.153870\n",
       "5   40.156017  28.311072  5.591540 -2.969185 -7.617398 -8.399704\n",
       "6    0.000000        NaN       NaN       NaN       NaN       NaN"
      ]
     },
     "execution_count": 160,
     "metadata": {},
     "output_type": "execute_result"
    }
   ],
   "source": [
    "time_percent = time_data.copy()\n",
    "for i in range(5):\n",
    "    time_percent[f'time {i}'] = (time_percent[f'time {i}'] - time_percent['time w/o p'])*100/time_percent['time w/o p']\n",
    "time_percent"
   ]
  },
  {
   "cell_type": "code",
   "execution_count": 161,
   "metadata": {},
   "outputs": [
    {
     "data": {
      "text/html": [
       "<div>\n",
       "<style scoped>\n",
       "    .dataframe tbody tr th:only-of-type {\n",
       "        vertical-align: middle;\n",
       "    }\n",
       "\n",
       "    .dataframe tbody tr th {\n",
       "        vertical-align: top;\n",
       "    }\n",
       "\n",
       "    .dataframe thead th {\n",
       "        text-align: right;\n",
       "    }\n",
       "</style>\n",
       "<table border=\"1\" class=\"dataframe\">\n",
       "  <thead>\n",
       "    <tr style=\"text-align: right;\">\n",
       "      <th></th>\n",
       "      <th>space w/o p</th>\n",
       "      <th>space 0</th>\n",
       "      <th>space 1</th>\n",
       "      <th>space 2</th>\n",
       "      <th>space 3</th>\n",
       "      <th>space 4</th>\n",
       "    </tr>\n",
       "  </thead>\n",
       "  <tbody>\n",
       "    <tr>\n",
       "      <th>0</th>\n",
       "      <td>10.375820</td>\n",
       "      <td>10.534822</td>\n",
       "      <td>10.410884</td>\n",
       "      <td>10.380548</td>\n",
       "      <td>10.302012</td>\n",
       "      <td>10.268028</td>\n",
       "    </tr>\n",
       "    <tr>\n",
       "      <th>1</th>\n",
       "      <td>8.915071</td>\n",
       "      <td>9.493752</td>\n",
       "      <td>9.141487</td>\n",
       "      <td>8.975963</td>\n",
       "      <td>8.701778</td>\n",
       "      <td>9.204849</td>\n",
       "    </tr>\n",
       "    <tr>\n",
       "      <th>2</th>\n",
       "      <td>7.997934</td>\n",
       "      <td>8.491035</td>\n",
       "      <td>8.451266</td>\n",
       "      <td>8.308227</td>\n",
       "      <td>8.180190</td>\n",
       "      <td>8.058163</td>\n",
       "    </tr>\n",
       "    <tr>\n",
       "      <th>3</th>\n",
       "      <td>7.540923</td>\n",
       "      <td>7.566398</td>\n",
       "      <td>7.843866</td>\n",
       "      <td>7.937354</td>\n",
       "      <td>7.942837</td>\n",
       "      <td>7.978620</td>\n",
       "    </tr>\n",
       "    <tr>\n",
       "      <th>4</th>\n",
       "      <td>7.134487</td>\n",
       "      <td>7.682470</td>\n",
       "      <td>7.762671</td>\n",
       "      <td>7.628807</td>\n",
       "      <td>7.739251</td>\n",
       "      <td>8.083141</td>\n",
       "    </tr>\n",
       "    <tr>\n",
       "      <th>5</th>\n",
       "      <td>6.803383</td>\n",
       "      <td>7.522469</td>\n",
       "      <td>7.459135</td>\n",
       "      <td>7.515671</td>\n",
       "      <td>7.446154</td>\n",
       "      <td>7.949425</td>\n",
       "    </tr>\n",
       "    <tr>\n",
       "      <th>6</th>\n",
       "      <td>0.000000</td>\n",
       "      <td>0.000000</td>\n",
       "      <td>0.000000</td>\n",
       "      <td>0.000000</td>\n",
       "      <td>0.000000</td>\n",
       "      <td>0.000000</td>\n",
       "    </tr>\n",
       "  </tbody>\n",
       "</table>\n",
       "</div>"
      ],
      "text/plain": [
       "   space w/o p    space 0    space 1    space 2    space 3    space 4\n",
       "0    10.375820  10.534822  10.410884  10.380548  10.302012  10.268028\n",
       "1     8.915071   9.493752   9.141487   8.975963   8.701778   9.204849\n",
       "2     7.997934   8.491035   8.451266   8.308227   8.180190   8.058163\n",
       "3     7.540923   7.566398   7.843866   7.937354   7.942837   7.978620\n",
       "4     7.134487   7.682470   7.762671   7.628807   7.739251   8.083141\n",
       "5     6.803383   7.522469   7.459135   7.515671   7.446154   7.949425\n",
       "6     0.000000   0.000000   0.000000   0.000000   0.000000   0.000000"
      ]
     },
     "execution_count": 161,
     "metadata": {},
     "output_type": "execute_result"
    }
   ],
   "source": [
    "space_data = data.iloc[:,8:]\n",
    "#space_data['n'] = data['n']\n",
    "space_data"
   ]
  },
  {
   "cell_type": "code",
   "execution_count": 162,
   "metadata": {},
   "outputs": [
    {
     "data": {
      "text/html": [
       "<div>\n",
       "<style scoped>\n",
       "    .dataframe tbody tr th:only-of-type {\n",
       "        vertical-align: middle;\n",
       "    }\n",
       "\n",
       "    .dataframe tbody tr th {\n",
       "        vertical-align: top;\n",
       "    }\n",
       "\n",
       "    .dataframe thead th {\n",
       "        text-align: right;\n",
       "    }\n",
       "</style>\n",
       "<table border=\"1\" class=\"dataframe\">\n",
       "  <thead>\n",
       "    <tr style=\"text-align: right;\">\n",
       "      <th></th>\n",
       "      <th>space w/o p</th>\n",
       "      <th>space 0</th>\n",
       "      <th>space 1</th>\n",
       "      <th>space 2</th>\n",
       "      <th>space 3</th>\n",
       "      <th>space 4</th>\n",
       "    </tr>\n",
       "  </thead>\n",
       "  <tbody>\n",
       "    <tr>\n",
       "      <th>0</th>\n",
       "      <td>10.375820</td>\n",
       "      <td>1.532429</td>\n",
       "      <td>0.337939</td>\n",
       "      <td>0.045570</td>\n",
       "      <td>-0.711346</td>\n",
       "      <td>-1.038872</td>\n",
       "    </tr>\n",
       "    <tr>\n",
       "      <th>1</th>\n",
       "      <td>8.915071</td>\n",
       "      <td>6.491033</td>\n",
       "      <td>2.539699</td>\n",
       "      <td>0.683017</td>\n",
       "      <td>-2.392503</td>\n",
       "      <td>3.250425</td>\n",
       "    </tr>\n",
       "    <tr>\n",
       "      <th>2</th>\n",
       "      <td>7.997934</td>\n",
       "      <td>6.165354</td>\n",
       "      <td>5.668106</td>\n",
       "      <td>3.879661</td>\n",
       "      <td>2.278786</td>\n",
       "      <td>0.753059</td>\n",
       "    </tr>\n",
       "    <tr>\n",
       "      <th>3</th>\n",
       "      <td>7.540923</td>\n",
       "      <td>0.337821</td>\n",
       "      <td>4.017315</td>\n",
       "      <td>5.257058</td>\n",
       "      <td>5.329776</td>\n",
       "      <td>5.804284</td>\n",
       "    </tr>\n",
       "    <tr>\n",
       "      <th>4</th>\n",
       "      <td>7.134487</td>\n",
       "      <td>7.680758</td>\n",
       "      <td>8.804892</td>\n",
       "      <td>6.928599</td>\n",
       "      <td>8.476630</td>\n",
       "      <td>13.296741</td>\n",
       "    </tr>\n",
       "    <tr>\n",
       "      <th>5</th>\n",
       "      <td>6.803383</td>\n",
       "      <td>10.569525</td>\n",
       "      <td>9.638615</td>\n",
       "      <td>10.469606</td>\n",
       "      <td>9.447802</td>\n",
       "      <td>16.845178</td>\n",
       "    </tr>\n",
       "    <tr>\n",
       "      <th>6</th>\n",
       "      <td>0.000000</td>\n",
       "      <td>NaN</td>\n",
       "      <td>NaN</td>\n",
       "      <td>NaN</td>\n",
       "      <td>NaN</td>\n",
       "      <td>NaN</td>\n",
       "    </tr>\n",
       "  </tbody>\n",
       "</table>\n",
       "</div>"
      ],
      "text/plain": [
       "   space w/o p    space 0   space 1    space 2   space 3    space 4\n",
       "0    10.375820   1.532429  0.337939   0.045570 -0.711346  -1.038872\n",
       "1     8.915071   6.491033  2.539699   0.683017 -2.392503   3.250425\n",
       "2     7.997934   6.165354  5.668106   3.879661  2.278786   0.753059\n",
       "3     7.540923   0.337821  4.017315   5.257058  5.329776   5.804284\n",
       "4     7.134487   7.680758  8.804892   6.928599  8.476630  13.296741\n",
       "5     6.803383  10.569525  9.638615  10.469606  9.447802  16.845178\n",
       "6     0.000000        NaN       NaN        NaN       NaN        NaN"
      ]
     },
     "execution_count": 162,
     "metadata": {},
     "output_type": "execute_result"
    }
   ],
   "source": [
    "space_percent = space_data.copy()\n",
    "for i in range(5):\n",
    "    space_percent[f'space {i}'] = (space_percent[f'space {i}'] - space_percent['space w/o p'])*100/space_percent['space w/o p']\n",
    "space_percent"
   ]
  },
  {
   "attachments": {},
   "cell_type": "markdown",
   "metadata": {},
   "source": [
    "\n",
    "    \n"
   ]
  },
  {
   "cell_type": "code",
   "execution_count": 163,
   "metadata": {},
   "outputs": [],
   "source": [
    "# for i in range(5):\n",
    "#     space_data[f'space {i}'] = (space_data[f'space {i}'] - space_data['space w/o p'])*100/space_data['space w/o p']\n",
    "\n",
    "# space_data"
   ]
  },
  {
   "cell_type": "code",
   "execution_count": 164,
   "metadata": {},
   "outputs": [
    {
     "name": "stderr",
     "output_type": "stream",
     "text": [
      "The PostScript backend does not support transparency; partially transparent artists will be rendered opaque.\n"
     ]
    },
    {
     "data": {
      "image/png": "[encoded data removed]",
      "text/plain": [
       "<Figure size 504x504 with 1 Axes>"
      ]
     },
     "metadata": {
      "needs_background": "light"
     },
     "output_type": "display_data"
    }
   ],
   "source": [
    "avg_time = time_data.iloc[5][0]\n",
    "fig, ax = plt.subplots(figsize=(7,7))\n",
    "plt.bar( ['<1','1-2','2-4','4-5','5<'],(time_data.iloc[5][1:8])*100/avg_time,width=0.7)\n",
    "plt.xlabel('priority', fontsize=18)\n",
    "plt.ylabel('% of completion time', fontsize=18)\n",
    "plt.xticks(fontsize=14)\n",
    "plt.yticks(fontsize=14)\n",
    "plt.ylim(0, 150)\n",
    "#plt.xlim(0,4)\n",
    "plt.plot([-0.5,4.5],[avg_time*100/avg_time, avg_time*100/avg_time], linestyle='dashed', color='red', label='Time of completion with no priority', linewidth=3)\n",
    "#plt.title('n = 24')\n",
    "plt.legend(fontsize=\"16\")\n",
    "plt.grid()\n",
    "plt.savefig('/media/storage/Agam/pca/plots/comparison plots/time_bar.eps', format='eps')"
   ]
  },
  {
   "cell_type": "code",
   "execution_count": 165,
   "metadata": {},
   "outputs": [],
   "source": [
    "#reset()"
   ]
  },
  {
   "cell_type": "code",
   "execution_count": 166,
   "metadata": {},
   "outputs": [
    {
     "name": "stderr",
     "output_type": "stream",
     "text": [
      "The PostScript backend does not support transparency; partially transparent artists will be rendered opaque.\n"
     ]
    },
    {
     "data": {
      "image/png": "[encoded data removed]",
      "text/plain": [
       "<Figure size 576x576 with 1 Axes>"
      ]
     },
     "metadata": {
      "needs_background": "light"
     },
     "output_type": "display_data"
    }
   ],
   "source": [
    "plt.figure(figsize=(8,8))\n",
    "\n",
    "\n",
    "plt.plot([4,8,12,16,20,24],time_data['time 4'][:6], linestyle='--', marker='o', color='blue', label='highest priority class')\n",
    "plt.plot([4,8,12,16,20,24],time_data['time 3'][:6], linestyle='--', marker='o', color='green', label='second higest priority class')\n",
    "#plt.plot([4,8,12,16,20,24],time_data['time 2'][:6], linestyle='--', marker='o', color='pink', label='2 < p < 4')\n",
    "#plt.plot([4,8,12,16,20,24],time_data['time 1'][:6], linestyle='--', marker='o', color='orange', label='1 < p < 2')\n",
    "plt.plot([4,8,12,16,20,24],time_data['time w/o p'][:6], linestyle='-', marker='*', color='red', label='No priority')\n",
    "\n",
    "plt.xticks([4,8,12,16,20,24], fontsize=14)\n",
    "plt.yticks(fontsize=14)\n",
    "plt.legend(fontsize=\"20\")\n",
    "plt.xlabel('No. of UAVs', fontsize=18)\n",
    "plt.ylabel('Time of completion (seconds)', fontsize=16)\n",
    "plt.grid()\n",
    "plt.savefig('/media/storage/Agam/pca/plots/comparison plots/time_top_2.eps', format='eps')\n"
   ]
  },
  {
   "cell_type": "code",
   "execution_count": 167,
   "metadata": {},
   "outputs": [
    {
     "data": {
      "text/html": [
       "<div>\n",
       "<style scoped>\n",
       "    .dataframe tbody tr th:only-of-type {\n",
       "        vertical-align: middle;\n",
       "    }\n",
       "\n",
       "    .dataframe tbody tr th {\n",
       "        vertical-align: top;\n",
       "    }\n",
       "\n",
       "    .dataframe thead th {\n",
       "        text-align: right;\n",
       "    }\n",
       "</style>\n",
       "<table border=\"1\" class=\"dataframe\">\n",
       "  <thead>\n",
       "    <tr style=\"text-align: right;\">\n",
       "      <th></th>\n",
       "      <th>space w/o p</th>\n",
       "      <th>space 0</th>\n",
       "      <th>space 1</th>\n",
       "      <th>space 2</th>\n",
       "      <th>space 3</th>\n",
       "      <th>space 4</th>\n",
       "    </tr>\n",
       "  </thead>\n",
       "  <tbody>\n",
       "    <tr>\n",
       "      <th>0</th>\n",
       "      <td>10.375820</td>\n",
       "      <td>10.534822</td>\n",
       "      <td>10.410884</td>\n",
       "      <td>10.380548</td>\n",
       "      <td>10.302012</td>\n",
       "      <td>10.268028</td>\n",
       "    </tr>\n",
       "    <tr>\n",
       "      <th>1</th>\n",
       "      <td>8.915071</td>\n",
       "      <td>9.493752</td>\n",
       "      <td>9.141487</td>\n",
       "      <td>8.975963</td>\n",
       "      <td>8.701778</td>\n",
       "      <td>9.204849</td>\n",
       "    </tr>\n",
       "    <tr>\n",
       "      <th>2</th>\n",
       "      <td>7.997934</td>\n",
       "      <td>8.491035</td>\n",
       "      <td>8.451266</td>\n",
       "      <td>8.308227</td>\n",
       "      <td>8.180190</td>\n",
       "      <td>8.058163</td>\n",
       "    </tr>\n",
       "    <tr>\n",
       "      <th>3</th>\n",
       "      <td>7.540923</td>\n",
       "      <td>7.566398</td>\n",
       "      <td>7.843866</td>\n",
       "      <td>7.937354</td>\n",
       "      <td>7.942837</td>\n",
       "      <td>7.978620</td>\n",
       "    </tr>\n",
       "    <tr>\n",
       "      <th>4</th>\n",
       "      <td>7.134487</td>\n",
       "      <td>7.682470</td>\n",
       "      <td>7.762671</td>\n",
       "      <td>7.628807</td>\n",
       "      <td>7.739251</td>\n",
       "      <td>8.083141</td>\n",
       "    </tr>\n",
       "    <tr>\n",
       "      <th>5</th>\n",
       "      <td>6.803383</td>\n",
       "      <td>7.522469</td>\n",
       "      <td>7.459135</td>\n",
       "      <td>7.515671</td>\n",
       "      <td>7.446154</td>\n",
       "      <td>7.949425</td>\n",
       "    </tr>\n",
       "    <tr>\n",
       "      <th>6</th>\n",
       "      <td>0.000000</td>\n",
       "      <td>0.000000</td>\n",
       "      <td>0.000000</td>\n",
       "      <td>0.000000</td>\n",
       "      <td>0.000000</td>\n",
       "      <td>0.000000</td>\n",
       "    </tr>\n",
       "  </tbody>\n",
       "</table>\n",
       "</div>"
      ],
      "text/plain": [
       "   space w/o p    space 0    space 1    space 2    space 3    space 4\n",
       "0    10.375820  10.534822  10.410884  10.380548  10.302012  10.268028\n",
       "1     8.915071   9.493752   9.141487   8.975963   8.701778   9.204849\n",
       "2     7.997934   8.491035   8.451266   8.308227   8.180190   8.058163\n",
       "3     7.540923   7.566398   7.843866   7.937354   7.942837   7.978620\n",
       "4     7.134487   7.682470   7.762671   7.628807   7.739251   8.083141\n",
       "5     6.803383   7.522469   7.459135   7.515671   7.446154   7.949425\n",
       "6     0.000000   0.000000   0.000000   0.000000   0.000000   0.000000"
      ]
     },
     "execution_count": 167,
     "metadata": {},
     "output_type": "execute_result"
    }
   ],
   "source": [
    "space_data"
   ]
  },
  {
   "cell_type": "code",
   "execution_count": 168,
   "metadata": {},
   "outputs": [
    {
     "data": {
      "text/plain": [
       "space 1    7.459135\n",
       "space 2    7.515671\n",
       "space 3    7.446154\n",
       "space 4    7.949425\n",
       "Name: 5, dtype: float64"
      ]
     },
     "execution_count": 168,
     "metadata": {},
     "output_type": "execute_result"
    }
   ],
   "source": [
    "space_data.iloc[5][2:]"
   ]
  },
  {
   "cell_type": "code",
   "execution_count": 169,
   "metadata": {},
   "outputs": [
    {
     "name": "stderr",
     "output_type": "stream",
     "text": [
      "The PostScript backend does not support transparency; partially transparent artists will be rendered opaque.\n"
     ]
    },
    {
     "data": {
      "image/png": "[encoded data removed]",
      "text/plain": [
       "<Figure size 504x504 with 1 Axes>"
      ]
     },
     "metadata": {
      "needs_background": "light"
     },
     "output_type": "display_data"
    }
   ],
   "source": [
    "avg_space = space_data.iloc[5][0]\n",
    "fig, ax = plt.subplots(figsize=(7,7))\n",
    "plt.bar( ['<1','1-2','2-4','4-5','5<'],(space_data.iloc[5][1:]-0)*100/avg_space,width=0.7)\n",
    "plt.xlabel('priority', fontsize=18)\n",
    "plt.ylabel('% of Mean Min Distance', fontsize=18)\n",
    "plt.xticks(fontsize=14)\n",
    "plt.yticks(fontsize=14)\n",
    "plt.ylim(0,150)\n",
    "plt.plot([-0.5,4.5],[space_data.iloc[5][0]*100/avg_space, space_data.iloc[5][0]*100/avg_space], linestyle='dashed', color='red', label='Mean Minimum Distance with no priority', linewidth=3)\n",
    "plt.legend(fontsize=\"16\")\n",
    "plt.grid()\n",
    "plt.savefig('/media/storage/Agam/pca/plots/comparison plots/space_bar.eps', format='eps')"
   ]
  },
  {
   "cell_type": "code",
   "execution_count": 170,
   "metadata": {},
   "outputs": [
    {
     "name": "stderr",
     "output_type": "stream",
     "text": [
      "The PostScript backend does not support transparency; partially transparent artists will be rendered opaque.\n"
     ]
    },
    {
     "data": {
      "image/png": "[encoded data removed]",
      "text/plain": [
       "<Figure size 576x576 with 1 Axes>"
      ]
     },
     "metadata": {
      "needs_background": "light"
     },
     "output_type": "display_data"
    }
   ],
   "source": [
    "plt.figure(figsize=(8,8))\n",
    "\n",
    "\n",
    "plt.plot([4,8,12,16,20,24],space_data['space 4'][:6], linestyle='--', marker='o', color='blue', label='Highest priority class')\n",
    "plt.plot([4,8,12,16,20,24],space_data['space 3'][:6], linestyle='--', marker='o', color='green', label='second highest priority class')\n",
    "#plt.plot([4,8,12,16,20,24],space_data['space 2'][:6], linestyle='--', marker='o', color='pink', label='2 < p < 4')\n",
    "#plt.plot([4,8,12,16,20,24],space_data['space 1'][:6], linestyle='--', marker='o', color='orange', label='1 < p < 2')\n",
    "plt.plot([4,8,12,16,20,24],space_data['space w/o p'][:6], linestyle='-', marker='*', color='red', label='No priority')\n",
    "\n",
    "plt.xticks([4,8,12,16,20,24], fontsize=14)\n",
    "plt.yticks(fontsize=14)\n",
    "plt.legend(fontsize=\"20\")\n",
    "plt.xlabel('No. of UAVs', fontsize=18)\n",
    "plt.ylabel('Mean min space (m)', fontsize=16)\n",
    "plt.grid()\n",
    "plt.savefig('/media/storage/Agam/pca/plots/comparison plots/space_top_2.eps', format='eps')"
   ]
  },
  {
   "cell_type": "code",
   "execution_count": 171,
   "metadata": {},
   "outputs": [],
   "source": [
    "#reset()"
   ]
  },
  {
   "cell_type": "code",
   "execution_count": null,
   "metadata": {},
   "outputs": [],
   "source": []
  }
 ],
 "metadata": {
  "kernelspec": {
   "display_name": "agam",
   "language": "python",
   "name": "python3"
  },
  "language_info": {
   "codemirror_mode": {
    "name": "ipython",
    "version": 3
   },
   "file_extension": ".py",
   "mimetype": "text/x-python",
   "name": "python",
   "nbconvert_exporter": "python",
   "pygments_lexer": "ipython3",
   "version": "3.10.5"
  },
  "orig_nbformat": 4
 },
 "nbformat": 4,
 "nbformat_minor": 2
}
