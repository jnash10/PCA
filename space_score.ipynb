{
 "cells": [
  {
   "cell_type": "code",
   "execution_count": 1,
   "metadata": {},
   "outputs": [],
   "source": [
    "import pandas as pd\n",
    "import numpy as np\n",
    "from priority import n"
   ]
  },
  {
   "cell_type": "code",
   "execution_count": 2,
   "metadata": {},
   "outputs": [
    {
     "data": {
      "text/html": [
       "<div>\n",
       "<style scoped>\n",
       "    .dataframe tbody tr th:only-of-type {\n",
       "        vertical-align: middle;\n",
       "    }\n",
       "\n",
       "    .dataframe tbody tr th {\n",
       "        vertical-align: top;\n",
       "    }\n",
       "\n",
       "    .dataframe thead th {\n",
       "        text-align: right;\n",
       "    }\n",
       "</style>\n",
       "<table border=\"1\" class=\"dataframe\">\n",
       "  <thead>\n",
       "    <tr style=\"text-align: right;\">\n",
       "      <th></th>\n",
       "      <th>0x</th>\n",
       "      <th>0y</th>\n",
       "      <th>1x</th>\n",
       "      <th>1y</th>\n",
       "      <th>2x</th>\n",
       "      <th>2y</th>\n",
       "      <th>3x</th>\n",
       "      <th>3y</th>\n",
       "      <th>4x</th>\n",
       "      <th>4y</th>\n",
       "      <th>...</th>\n",
       "      <th>25y</th>\n",
       "      <th>26x</th>\n",
       "      <th>26y</th>\n",
       "      <th>27x</th>\n",
       "      <th>27y</th>\n",
       "      <th>28x</th>\n",
       "      <th>28y</th>\n",
       "      <th>29x</th>\n",
       "      <th>29y</th>\n",
       "      <th>Unnamed: 60</th>\n",
       "    </tr>\n",
       "  </thead>\n",
       "  <tbody>\n",
       "    <tr>\n",
       "      <th>0</th>\n",
       "      <td>99.999965</td>\n",
       "      <td>-0.000008</td>\n",
       "      <td>97.814725</td>\n",
       "      <td>20.791159</td>\n",
       "      <td>91.354512</td>\n",
       "      <td>40.673649</td>\n",
       "      <td>80.901666</td>\n",
       "      <td>58.778512</td>\n",
       "      <td>66.913035</td>\n",
       "      <td>74.314456</td>\n",
       "      <td>...</td>\n",
       "      <td>-86.602507</td>\n",
       "      <td>66.913034</td>\n",
       "      <td>-74.314457</td>\n",
       "      <td>80.901670</td>\n",
       "      <td>-58.778503</td>\n",
       "      <td>91.354514</td>\n",
       "      <td>-40.673646</td>\n",
       "      <td>97.814724</td>\n",
       "      <td>-20.791160</td>\n",
       "      <td>NaN</td>\n",
       "    </tr>\n",
       "    <tr>\n",
       "      <th>1</th>\n",
       "      <td>99.999896</td>\n",
       "      <td>-0.000025</td>\n",
       "      <td>97.814654</td>\n",
       "      <td>20.791140</td>\n",
       "      <td>91.354446</td>\n",
       "      <td>40.673618</td>\n",
       "      <td>80.901600</td>\n",
       "      <td>58.778485</td>\n",
       "      <td>66.912984</td>\n",
       "      <td>74.314403</td>\n",
       "      <td>...</td>\n",
       "      <td>-86.602441</td>\n",
       "      <td>66.912981</td>\n",
       "      <td>-74.314407</td>\n",
       "      <td>80.901612</td>\n",
       "      <td>-58.778459</td>\n",
       "      <td>91.354451</td>\n",
       "      <td>-40.673610</td>\n",
       "      <td>97.814653</td>\n",
       "      <td>-20.791143</td>\n",
       "      <td>NaN</td>\n",
       "    </tr>\n",
       "    <tr>\n",
       "      <th>2</th>\n",
       "      <td>99.999791</td>\n",
       "      <td>-0.000050</td>\n",
       "      <td>97.814548</td>\n",
       "      <td>20.791111</td>\n",
       "      <td>91.354345</td>\n",
       "      <td>40.673572</td>\n",
       "      <td>80.901501</td>\n",
       "      <td>58.778445</td>\n",
       "      <td>66.912907</td>\n",
       "      <td>74.314324</td>\n",
       "      <td>...</td>\n",
       "      <td>-86.602341</td>\n",
       "      <td>66.912900</td>\n",
       "      <td>-74.314332</td>\n",
       "      <td>80.901524</td>\n",
       "      <td>-58.778392</td>\n",
       "      <td>91.354355</td>\n",
       "      <td>-40.673555</td>\n",
       "      <td>97.814546</td>\n",
       "      <td>-20.791117</td>\n",
       "      <td>NaN</td>\n",
       "    </tr>\n",
       "    <tr>\n",
       "      <th>3</th>\n",
       "      <td>99.999652</td>\n",
       "      <td>-0.000082</td>\n",
       "      <td>97.814406</td>\n",
       "      <td>20.791072</td>\n",
       "      <td>91.354211</td>\n",
       "      <td>40.673511</td>\n",
       "      <td>80.901368</td>\n",
       "      <td>58.778392</td>\n",
       "      <td>66.912805</td>\n",
       "      <td>74.314219</td>\n",
       "      <td>...</td>\n",
       "      <td>-86.602208</td>\n",
       "      <td>66.912794</td>\n",
       "      <td>-74.314231</td>\n",
       "      <td>80.901407</td>\n",
       "      <td>-58.778303</td>\n",
       "      <td>91.354228</td>\n",
       "      <td>-40.673483</td>\n",
       "      <td>97.814403</td>\n",
       "      <td>-20.791082</td>\n",
       "      <td>NaN</td>\n",
       "    </tr>\n",
       "    <tr>\n",
       "      <th>4</th>\n",
       "      <td>99.999478</td>\n",
       "      <td>-0.000124</td>\n",
       "      <td>97.814229</td>\n",
       "      <td>20.791023</td>\n",
       "      <td>91.354044</td>\n",
       "      <td>40.673435</td>\n",
       "      <td>80.901203</td>\n",
       "      <td>58.778325</td>\n",
       "      <td>66.912677</td>\n",
       "      <td>74.314087</td>\n",
       "      <td>...</td>\n",
       "      <td>-86.602041</td>\n",
       "      <td>66.912660</td>\n",
       "      <td>-74.314106</td>\n",
       "      <td>80.901260</td>\n",
       "      <td>-58.778192</td>\n",
       "      <td>91.354069</td>\n",
       "      <td>-40.673392</td>\n",
       "      <td>97.814224</td>\n",
       "      <td>-20.791039</td>\n",
       "      <td>NaN</td>\n",
       "    </tr>\n",
       "    <tr>\n",
       "      <th>...</th>\n",
       "      <td>...</td>\n",
       "      <td>...</td>\n",
       "      <td>...</td>\n",
       "      <td>...</td>\n",
       "      <td>...</td>\n",
       "      <td>...</td>\n",
       "      <td>...</td>\n",
       "      <td>...</td>\n",
       "      <td>...</td>\n",
       "      <td>...</td>\n",
       "      <td>...</td>\n",
       "      <td>...</td>\n",
       "      <td>...</td>\n",
       "      <td>...</td>\n",
       "      <td>...</td>\n",
       "      <td>...</td>\n",
       "      <td>...</td>\n",
       "      <td>...</td>\n",
       "      <td>...</td>\n",
       "      <td>...</td>\n",
       "      <td>...</td>\n",
       "    </tr>\n",
       "    <tr>\n",
       "      <th>28098</th>\n",
       "      <td>-84.410916</td>\n",
       "      <td>-43.865770</td>\n",
       "      <td>-91.308354</td>\n",
       "      <td>-28.238807</td>\n",
       "      <td>-85.597173</td>\n",
       "      <td>-41.300354</td>\n",
       "      <td>-94.416607</td>\n",
       "      <td>-12.071848</td>\n",
       "      <td>-68.377009</td>\n",
       "      <td>-65.987860</td>\n",
       "      <td>...</td>\n",
       "      <td>90.055801</td>\n",
       "      <td>-77.262990</td>\n",
       "      <td>57.498084</td>\n",
       "      <td>-74.926535</td>\n",
       "      <td>58.492705</td>\n",
       "      <td>-78.196172</td>\n",
       "      <td>54.263484</td>\n",
       "      <td>-91.600720</td>\n",
       "      <td>25.235003</td>\n",
       "      <td>NaN</td>\n",
       "    </tr>\n",
       "    <tr>\n",
       "      <th>28099</th>\n",
       "      <td>-84.410916</td>\n",
       "      <td>-43.865770</td>\n",
       "      <td>-91.308354</td>\n",
       "      <td>-28.238807</td>\n",
       "      <td>-85.597173</td>\n",
       "      <td>-41.300354</td>\n",
       "      <td>-94.416607</td>\n",
       "      <td>-12.071848</td>\n",
       "      <td>-68.377009</td>\n",
       "      <td>-65.987860</td>\n",
       "      <td>...</td>\n",
       "      <td>90.055801</td>\n",
       "      <td>-77.262990</td>\n",
       "      <td>57.498084</td>\n",
       "      <td>-74.926535</td>\n",
       "      <td>58.492705</td>\n",
       "      <td>-78.196172</td>\n",
       "      <td>54.263484</td>\n",
       "      <td>-91.600720</td>\n",
       "      <td>25.235003</td>\n",
       "      <td>NaN</td>\n",
       "    </tr>\n",
       "    <tr>\n",
       "      <th>28100</th>\n",
       "      <td>-84.410916</td>\n",
       "      <td>-43.865770</td>\n",
       "      <td>-91.308354</td>\n",
       "      <td>-28.238807</td>\n",
       "      <td>-85.597173</td>\n",
       "      <td>-41.300354</td>\n",
       "      <td>-94.416607</td>\n",
       "      <td>-12.071848</td>\n",
       "      <td>-68.377009</td>\n",
       "      <td>-65.987860</td>\n",
       "      <td>...</td>\n",
       "      <td>90.055801</td>\n",
       "      <td>-77.262990</td>\n",
       "      <td>57.498084</td>\n",
       "      <td>-74.926535</td>\n",
       "      <td>58.492705</td>\n",
       "      <td>-78.196172</td>\n",
       "      <td>54.263484</td>\n",
       "      <td>-91.600720</td>\n",
       "      <td>25.235003</td>\n",
       "      <td>NaN</td>\n",
       "    </tr>\n",
       "    <tr>\n",
       "      <th>28101</th>\n",
       "      <td>-84.410916</td>\n",
       "      <td>-43.865770</td>\n",
       "      <td>-91.308354</td>\n",
       "      <td>-28.238807</td>\n",
       "      <td>-85.597173</td>\n",
       "      <td>-41.300354</td>\n",
       "      <td>-94.416607</td>\n",
       "      <td>-12.071848</td>\n",
       "      <td>-68.377009</td>\n",
       "      <td>-65.987860</td>\n",
       "      <td>...</td>\n",
       "      <td>90.055801</td>\n",
       "      <td>-77.262990</td>\n",
       "      <td>57.498084</td>\n",
       "      <td>-74.926535</td>\n",
       "      <td>58.492705</td>\n",
       "      <td>-78.196172</td>\n",
       "      <td>54.263484</td>\n",
       "      <td>-91.600720</td>\n",
       "      <td>25.235003</td>\n",
       "      <td>NaN</td>\n",
       "    </tr>\n",
       "    <tr>\n",
       "      <th>28102</th>\n",
       "      <td>-84.410916</td>\n",
       "      <td>-43.865770</td>\n",
       "      <td>-91.308354</td>\n",
       "      <td>-28.238807</td>\n",
       "      <td>-85.597173</td>\n",
       "      <td>-41.300354</td>\n",
       "      <td>-94.416607</td>\n",
       "      <td>-12.071848</td>\n",
       "      <td>-68.377009</td>\n",
       "      <td>-65.987860</td>\n",
       "      <td>...</td>\n",
       "      <td>90.055801</td>\n",
       "      <td>-77.262990</td>\n",
       "      <td>57.498084</td>\n",
       "      <td>-74.926535</td>\n",
       "      <td>58.492705</td>\n",
       "      <td>-78.196172</td>\n",
       "      <td>54.263484</td>\n",
       "      <td>-91.600720</td>\n",
       "      <td>25.235003</td>\n",
       "      <td>NaN</td>\n",
       "    </tr>\n",
       "  </tbody>\n",
       "</table>\n",
       "<p>28103 rows × 61 columns</p>\n",
       "</div>"
      ],
      "text/plain": [
       "              0x         0y         1x         1y         2x         2y  \\\n",
       "0      99.999965  -0.000008  97.814725  20.791159  91.354512  40.673649   \n",
       "1      99.999896  -0.000025  97.814654  20.791140  91.354446  40.673618   \n",
       "2      99.999791  -0.000050  97.814548  20.791111  91.354345  40.673572   \n",
       "3      99.999652  -0.000082  97.814406  20.791072  91.354211  40.673511   \n",
       "4      99.999478  -0.000124  97.814229  20.791023  91.354044  40.673435   \n",
       "...          ...        ...        ...        ...        ...        ...   \n",
       "28098 -84.410916 -43.865770 -91.308354 -28.238807 -85.597173 -41.300354   \n",
       "28099 -84.410916 -43.865770 -91.308354 -28.238807 -85.597173 -41.300354   \n",
       "28100 -84.410916 -43.865770 -91.308354 -28.238807 -85.597173 -41.300354   \n",
       "28101 -84.410916 -43.865770 -91.308354 -28.238807 -85.597173 -41.300354   \n",
       "28102 -84.410916 -43.865770 -91.308354 -28.238807 -85.597173 -41.300354   \n",
       "\n",
       "              3x         3y         4x         4y  ...        25y        26x  \\\n",
       "0      80.901666  58.778512  66.913035  74.314456  ... -86.602507  66.913034   \n",
       "1      80.901600  58.778485  66.912984  74.314403  ... -86.602441  66.912981   \n",
       "2      80.901501  58.778445  66.912907  74.314324  ... -86.602341  66.912900   \n",
       "3      80.901368  58.778392  66.912805  74.314219  ... -86.602208  66.912794   \n",
       "4      80.901203  58.778325  66.912677  74.314087  ... -86.602041  66.912660   \n",
       "...          ...        ...        ...        ...  ...        ...        ...   \n",
       "28098 -94.416607 -12.071848 -68.377009 -65.987860  ...  90.055801 -77.262990   \n",
       "28099 -94.416607 -12.071848 -68.377009 -65.987860  ...  90.055801 -77.262990   \n",
       "28100 -94.416607 -12.071848 -68.377009 -65.987860  ...  90.055801 -77.262990   \n",
       "28101 -94.416607 -12.071848 -68.377009 -65.987860  ...  90.055801 -77.262990   \n",
       "28102 -94.416607 -12.071848 -68.377009 -65.987860  ...  90.055801 -77.262990   \n",
       "\n",
       "             26y        27x        27y        28x        28y        29x  \\\n",
       "0     -74.314457  80.901670 -58.778503  91.354514 -40.673646  97.814724   \n",
       "1     -74.314407  80.901612 -58.778459  91.354451 -40.673610  97.814653   \n",
       "2     -74.314332  80.901524 -58.778392  91.354355 -40.673555  97.814546   \n",
       "3     -74.314231  80.901407 -58.778303  91.354228 -40.673483  97.814403   \n",
       "4     -74.314106  80.901260 -58.778192  91.354069 -40.673392  97.814224   \n",
       "...          ...        ...        ...        ...        ...        ...   \n",
       "28098  57.498084 -74.926535  58.492705 -78.196172  54.263484 -91.600720   \n",
       "28099  57.498084 -74.926535  58.492705 -78.196172  54.263484 -91.600720   \n",
       "28100  57.498084 -74.926535  58.492705 -78.196172  54.263484 -91.600720   \n",
       "28101  57.498084 -74.926535  58.492705 -78.196172  54.263484 -91.600720   \n",
       "28102  57.498084 -74.926535  58.492705 -78.196172  54.263484 -91.600720   \n",
       "\n",
       "             29y  Unnamed: 60  \n",
       "0     -20.791160          NaN  \n",
       "1     -20.791143          NaN  \n",
       "2     -20.791117          NaN  \n",
       "3     -20.791082          NaN  \n",
       "4     -20.791039          NaN  \n",
       "...          ...          ...  \n",
       "28098  25.235003          NaN  \n",
       "28099  25.235003          NaN  \n",
       "28100  25.235003          NaN  \n",
       "28101  25.235003          NaN  \n",
       "28102  25.235003          NaN  \n",
       "\n",
       "[28103 rows x 61 columns]"
      ]
     },
     "execution_count": 2,
     "metadata": {},
     "output_type": "execute_result"
    }
   ],
   "source": [
    "pos = pd.read_csv('out.csv')\n",
    "pos"
   ]
  },
  {
   "cell_type": "code",
   "execution_count": 3,
   "metadata": {},
   "outputs": [
    {
     "data": {
      "text/plain": [
       "17.081470384706705"
      ]
     },
     "execution_count": 3,
     "metadata": {},
     "output_type": "execute_result"
    }
   ],
   "source": [
    "dist_vectors = np.array([(pos['0x'][i] - pos['1x'][i], pos['0y'][i] - pos['1y'][i] ) for i in range(len(pos['0x']))])\n",
    "dist = [np.linalg.norm(vec) for vec in dist_vectors]\n",
    "dist\n",
    "min(dist)"
   ]
  },
  {
   "cell_type": "code",
   "execution_count": 4,
   "metadata": {},
   "outputs": [],
   "source": [
    "from tqdm import tnrange, tqdm_notebook"
   ]
  },
  {
   "cell_type": "code",
   "execution_count": 5,
   "metadata": {},
   "outputs": [
    {
     "name": "stderr",
     "output_type": "stream",
     "text": [
      "/tmp/ipykernel_140244/303698910.py:3: TqdmDeprecationWarning: Please use `tqdm.notebook.trange` instead of `tqdm.tnrange`\n",
      "  for i in tnrange(n):\n"
     ]
    },
    {
     "data": {
      "application/vnd.jupyter.widget-view+json": {
       "model_id": "6743e0f518b84d5aa74a42ded1ea44b5",
       "version_major": 2,
       "version_minor": 0
      },
      "text/plain": [
       "  0%|          | 0/30 [00:00<?, ?it/s]"
      ]
     },
     "metadata": {},
     "output_type": "display_data"
    },
    {
     "name": "stderr",
     "output_type": "stream",
     "text": [
      "/tmp/ipykernel_140244/303698910.py:4: TqdmDeprecationWarning: Please use `tqdm.notebook.trange` instead of `tqdm.tnrange`\n",
      "  for j in tnrange(n):\n"
     ]
    },
    {
     "data": {
      "application/vnd.jupyter.widget-view+json": {
       "model_id": "8875e2130832405088cd32b51b466ba6",
       "version_major": 2,
       "version_minor": 0
      },
      "text/plain": [
       "  0%|          | 0/30 [00:00<?, ?it/s]"
      ]
     },
     "metadata": {},
     "output_type": "display_data"
    },
    {
     "data": {
      "application/vnd.jupyter.widget-view+json": {
       "model_id": "233ab1c44313480f87eed66c1d22d8e6",
       "version_major": 2,
       "version_minor": 0
      },
      "text/plain": [
       "  0%|          | 0/30 [00:00<?, ?it/s]"
      ]
     },
     "metadata": {},
     "output_type": "display_data"
    },
    {
     "data": {
      "application/vnd.jupyter.widget-view+json": {
       "model_id": "04853e8cf4654506ade2f3728bf4bf6a",
       "version_major": 2,
       "version_minor": 0
      },
      "text/plain": [
       "  0%|          | 0/30 [00:00<?, ?it/s]"
      ]
     },
     "metadata": {},
     "output_type": "display_data"
    },
    {
     "data": {
      "application/vnd.jupyter.widget-view+json": {
       "model_id": "1c956719f217477bb9c66fa1462a83d6",
       "version_major": 2,
       "version_minor": 0
      },
      "text/plain": [
       "  0%|          | 0/30 [00:00<?, ?it/s]"
      ]
     },
     "metadata": {},
     "output_type": "display_data"
    },
    {
     "data": {
      "application/vnd.jupyter.widget-view+json": {
       "model_id": "b0d0f21d22d0409283069552780ab001",
       "version_major": 2,
       "version_minor": 0
      },
      "text/plain": [
       "  0%|          | 0/30 [00:00<?, ?it/s]"
      ]
     },
     "metadata": {},
     "output_type": "display_data"
    },
    {
     "data": {
      "application/vnd.jupyter.widget-view+json": {
       "model_id": "47645fb4b52949d1b13511014963cff9",
       "version_major": 2,
       "version_minor": 0
      },
      "text/plain": [
       "  0%|          | 0/30 [00:00<?, ?it/s]"
      ]
     },
     "metadata": {},
     "output_type": "display_data"
    },
    {
     "data": {
      "application/vnd.jupyter.widget-view+json": {
       "model_id": "9ae019b6f932406c97128dceb83c9bc0",
       "version_major": 2,
       "version_minor": 0
      },
      "text/plain": [
       "  0%|          | 0/30 [00:00<?, ?it/s]"
      ]
     },
     "metadata": {},
     "output_type": "display_data"
    },
    {
     "data": {
      "application/vnd.jupyter.widget-view+json": {
       "model_id": "feadf53448244c9b934ba44bb40887f7",
       "version_major": 2,
       "version_minor": 0
      },
      "text/plain": [
       "  0%|          | 0/30 [00:00<?, ?it/s]"
      ]
     },
     "metadata": {},
     "output_type": "display_data"
    },
    {
     "data": {
      "application/vnd.jupyter.widget-view+json": {
       "model_id": "de839d9601834eb28ba26c3d9107a792",
       "version_major": 2,
       "version_minor": 0
      },
      "text/plain": [
       "  0%|          | 0/30 [00:00<?, ?it/s]"
      ]
     },
     "metadata": {},
     "output_type": "display_data"
    },
    {
     "data": {
      "application/vnd.jupyter.widget-view+json": {
       "model_id": "b67a5ae0c316424b9d1018d92bc1d5e9",
       "version_major": 2,
       "version_minor": 0
      },
      "text/plain": [
       "  0%|          | 0/30 [00:00<?, ?it/s]"
      ]
     },
     "metadata": {},
     "output_type": "display_data"
    },
    {
     "data": {
      "application/vnd.jupyter.widget-view+json": {
       "model_id": "55b72d9c838246468f72174dcc10e341",
       "version_major": 2,
       "version_minor": 0
      },
      "text/plain": [
       "  0%|          | 0/30 [00:00<?, ?it/s]"
      ]
     },
     "metadata": {},
     "output_type": "display_data"
    },
    {
     "data": {
      "application/vnd.jupyter.widget-view+json": {
       "model_id": "4fcea443f05f40ed875303dd2d11f31d",
       "version_major": 2,
       "version_minor": 0
      },
      "text/plain": [
       "  0%|          | 0/30 [00:00<?, ?it/s]"
      ]
     },
     "metadata": {},
     "output_type": "display_data"
    },
    {
     "data": {
      "application/vnd.jupyter.widget-view+json": {
       "model_id": "d0297a08fae64645b508661a8e399dfc",
       "version_major": 2,
       "version_minor": 0
      },
      "text/plain": [
       "  0%|          | 0/30 [00:00<?, ?it/s]"
      ]
     },
     "metadata": {},
     "output_type": "display_data"
    },
    {
     "data": {
      "application/vnd.jupyter.widget-view+json": {
       "model_id": "a3020a3e574a4ff4bb9f63824cb4e247",
       "version_major": 2,
       "version_minor": 0
      },
      "text/plain": [
       "  0%|          | 0/30 [00:00<?, ?it/s]"
      ]
     },
     "metadata": {},
     "output_type": "display_data"
    },
    {
     "data": {
      "application/vnd.jupyter.widget-view+json": {
       "model_id": "d63a708226864639b0ab639a442a6a23",
       "version_major": 2,
       "version_minor": 0
      },
      "text/plain": [
       "  0%|          | 0/30 [00:00<?, ?it/s]"
      ]
     },
     "metadata": {},
     "output_type": "display_data"
    },
    {
     "data": {
      "application/vnd.jupyter.widget-view+json": {
       "model_id": "269c0d9fdb7a4548b924f464e9949904",
       "version_major": 2,
       "version_minor": 0
      },
      "text/plain": [
       "  0%|          | 0/30 [00:00<?, ?it/s]"
      ]
     },
     "metadata": {},
     "output_type": "display_data"
    },
    {
     "data": {
      "application/vnd.jupyter.widget-view+json": {
       "model_id": "82079d1194c34b8493eec3457d179a1b",
       "version_major": 2,
       "version_minor": 0
      },
      "text/plain": [
       "  0%|          | 0/30 [00:00<?, ?it/s]"
      ]
     },
     "metadata": {},
     "output_type": "display_data"
    },
    {
     "data": {
      "application/vnd.jupyter.widget-view+json": {
       "model_id": "77e28f3cc639452b9f0c9c674aaf716d",
       "version_major": 2,
       "version_minor": 0
      },
      "text/plain": [
       "  0%|          | 0/30 [00:00<?, ?it/s]"
      ]
     },
     "metadata": {},
     "output_type": "display_data"
    },
    {
     "data": {
      "application/vnd.jupyter.widget-view+json": {
       "model_id": "dc2a598edd714304b8f5c00de0827fa6",
       "version_major": 2,
       "version_minor": 0
      },
      "text/plain": [
       "  0%|          | 0/30 [00:00<?, ?it/s]"
      ]
     },
     "metadata": {},
     "output_type": "display_data"
    },
    {
     "data": {
      "application/vnd.jupyter.widget-view+json": {
       "model_id": "63a2ce87b2f249a88073f848a55a4f7e",
       "version_major": 2,
       "version_minor": 0
      },
      "text/plain": [
       "  0%|          | 0/30 [00:00<?, ?it/s]"
      ]
     },
     "metadata": {},
     "output_type": "display_data"
    },
    {
     "data": {
      "application/vnd.jupyter.widget-view+json": {
       "model_id": "d311c2969a5c4bbda7c671564643eeb7",
       "version_major": 2,
       "version_minor": 0
      },
      "text/plain": [
       "  0%|          | 0/30 [00:00<?, ?it/s]"
      ]
     },
     "metadata": {},
     "output_type": "display_data"
    },
    {
     "data": {
      "application/vnd.jupyter.widget-view+json": {
       "model_id": "e1faa40c47834da68bb838c4fdd6efef",
       "version_major": 2,
       "version_minor": 0
      },
      "text/plain": [
       "  0%|          | 0/30 [00:00<?, ?it/s]"
      ]
     },
     "metadata": {},
     "output_type": "display_data"
    },
    {
     "data": {
      "application/vnd.jupyter.widget-view+json": {
       "model_id": "0438ac88c1e74f90bcd4d4775ddc3c05",
       "version_major": 2,
       "version_minor": 0
      },
      "text/plain": [
       "  0%|          | 0/30 [00:00<?, ?it/s]"
      ]
     },
     "metadata": {},
     "output_type": "display_data"
    },
    {
     "data": {
      "application/vnd.jupyter.widget-view+json": {
       "model_id": "8ab30bee3d7448589ac8bdfb746d6e8d",
       "version_major": 2,
       "version_minor": 0
      },
      "text/plain": [
       "  0%|          | 0/30 [00:00<?, ?it/s]"
      ]
     },
     "metadata": {},
     "output_type": "display_data"
    },
    {
     "data": {
      "application/vnd.jupyter.widget-view+json": {
       "model_id": "de9369855d0247acb8a2368731ded0fd",
       "version_major": 2,
       "version_minor": 0
      },
      "text/plain": [
       "  0%|          | 0/30 [00:00<?, ?it/s]"
      ]
     },
     "metadata": {},
     "output_type": "display_data"
    },
    {
     "data": {
      "application/vnd.jupyter.widget-view+json": {
       "model_id": "094b84ec095e407a82607335497af733",
       "version_major": 2,
       "version_minor": 0
      },
      "text/plain": [
       "  0%|          | 0/30 [00:00<?, ?it/s]"
      ]
     },
     "metadata": {},
     "output_type": "display_data"
    },
    {
     "data": {
      "application/vnd.jupyter.widget-view+json": {
       "model_id": "9b870ad2e3fa4ea2887dc2e8b8534544",
       "version_major": 2,
       "version_minor": 0
      },
      "text/plain": [
       "  0%|          | 0/30 [00:00<?, ?it/s]"
      ]
     },
     "metadata": {},
     "output_type": "display_data"
    },
    {
     "data": {
      "application/vnd.jupyter.widget-view+json": {
       "model_id": "7bfc4cecef1e45b193419f89e24a11da",
       "version_major": 2,
       "version_minor": 0
      },
      "text/plain": [
       "  0%|          | 0/30 [00:00<?, ?it/s]"
      ]
     },
     "metadata": {},
     "output_type": "display_data"
    },
    {
     "data": {
      "application/vnd.jupyter.widget-view+json": {
       "model_id": "3fc1df501e7c4962b3ac6a04595766d4",
       "version_major": 2,
       "version_minor": 0
      },
      "text/plain": [
       "  0%|          | 0/30 [00:00<?, ?it/s]"
      ]
     },
     "metadata": {},
     "output_type": "display_data"
    },
    {
     "data": {
      "application/vnd.jupyter.widget-view+json": {
       "model_id": "4d2615bae6da48ee93871ee35ff9a415",
       "version_major": 2,
       "version_minor": 0
      },
      "text/plain": [
       "  0%|          | 0/30 [00:00<?, ?it/s]"
      ]
     },
     "metadata": {},
     "output_type": "display_data"
    }
   ],
   "source": [
    "min_dist = np.zeros((n,n))\n",
    "length = len(pos['0x'])\n",
    "for i in tnrange(n):\n",
    "    for j in tnrange(n):\n",
    "        #closest approach of UAV i with UAV j \n",
    "        dist_vectors = np.array([(pos[f'{i}x'][k] - pos[f'{j}x'][k], pos[f'{i}y'][k] - pos[f'{j}y'][k] ) for k in range(length)])\n",
    "        min_d = min([np.linalg.norm(vec) for vec in dist_vectors])\n",
    "        min_dist[i][j] = min_d\n"
   ]
  },
  {
   "cell_type": "markdown",
   "metadata": {},
   "source": []
  },
  {
   "attachments": {},
   "cell_type": "markdown",
   "metadata": {},
   "source": []
  },
  {
   "cell_type": "code",
   "execution_count": null,
   "metadata": {},
   "outputs": [],
   "source": [
    "avg_dist = []\n",
    "\n",
    "for i in range(n):\n",
    "    avg_dist.append(np.mean(min_dist[i]))"
   ]
  }
 ],
 "metadata": {
  "kernelspec": {
   "display_name": "base",
   "language": "python",
   "name": "python3"
  },
  "language_info": {
   "codemirror_mode": {
    "name": "ipython",
    "version": 3
   },
   "file_extension": ".py",
   "mimetype": "text/x-python",
   "name": "python",
   "nbconvert_exporter": "python",
   "pygments_lexer": "ipython3",
   "version": "3.10.9"
  },
  "orig_nbformat": 4,
  "vscode": {
   "interpreter": {
    "hash": "87391066d88fecc5c21cc3eca31a81827f13c846fec04058b2d02eacdd458e32"
   }
  }
 },
 "nbformat": 4,
 "nbformat_minor": 2
}
